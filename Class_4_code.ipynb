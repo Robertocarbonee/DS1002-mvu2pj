{
  "nbformat": 4,
  "nbformat_minor": 0,
  "metadata": {
    "colab": {
      "provenance": [],
      "authorship_tag": "ABX9TyOEjsVU/Mgoyusn1RqmoAem",
      "include_colab_link": true
    },
    "kernelspec": {
      "name": "python3",
      "display_name": "Python 3"
    },
    "language_info": {
      "name": "python"
    }
  },
  "cells": [
    {
      "cell_type": "markdown",
      "metadata": {
        "id": "view-in-github",
        "colab_type": "text"
      },
      "source": [
        "<a href=\"https://colab.research.google.com/github/Robertocarbonee/DS1002-mvu2pj/blob/main/Class_4_code.ipynb\" target=\"_parent\"><img src=\"https://colab.research.google.com/assets/colab-badge.svg\" alt=\"Open In Colab\"/></a>"
      ]
    },
    {
      "cell_type": "markdown",
      "source": [],
      "metadata": {
        "id": "ljqkMbXZHQrS"
      }
    },
    {
      "cell_type": "code",
      "execution_count": 2,
      "metadata": {
        "colab": {
          "base_uri": "https://localhost:8080/"
        },
        "id": "qGu6V3ooGZj9",
        "outputId": "39ab82ac-faff-4b6c-f521-2668ce36b6d2"
      },
      "outputs": [
        {
          "output_type": "stream",
          "name": "stdout",
          "text": [
            "Hey I found Vietnam\n",
            "No Vietnam here\n",
            "No Vietnam here\n",
            "No Vietnam here\n",
            "No Vietnam here\n",
            "No Vietnam here\n"
          ]
        }
      ],
      "source": [
        "countries = [\"vietnam\", \"italy\", \"uzbekistan\", \"spain\", \"united states\", \"uruguay\"] #a list of countries\n",
        "\n",
        "\n",
        "# each country will loop against eachother.  #the column (:) does the indent and does the fucntion of transitioning\n",
        "def find_things(countries):\n",
        "  for c in countries:\n",
        "    if( c == \"vietnam\" ):\n",
        "      print(\"Hey I found Vietnam\")\n",
        "    else:\n",
        "      print(\"No Vietnam here\")\n",
        "\n",
        "\n",
        "find_things(countries)"
      ]
    },
    {
      "cell_type": "code",
      "source": [
        "countries = [\"vietnam\", \"italy\", \"uzbekistan\", \"spain\", \"united states\", \"uruguay\"]\n",
        "lookfor =  \"italy\"\n",
        "\n",
        "def find_things(countries, lookfor):\n",
        "  for xyz in countries:\n",
        "    if( xyz == lookfor ):\n",
        "      print(\"Hey I found \" + lookfor)\n",
        "    else:\n",
        "      print(\"No match\")\n",
        "\n",
        "\n",
        "find_things(countries, lookfor)"
      ],
      "metadata": {
        "colab": {
          "base_uri": "https://localhost:8080/"
        },
        "id": "b-ThI0deKpj1",
        "outputId": "5d99e04e-b295-4ee8-f00e-207b1a354ed3"
      },
      "execution_count": 3,
      "outputs": [
        {
          "output_type": "stream",
          "name": "stdout",
          "text": [
            "No match\n",
            "Hey I found italy\n",
            "No match\n",
            "No match\n",
            "No match\n",
            "No match\n"
          ]
        }
      ]
    },
    {
      "cell_type": "code",
      "source": [
        "countries = [\"vietnam\", \"italy\", \"uzbekistan\", \"spain\", \"united states\", \"uruguay\"]\n",
        "lookfor =  \"italy\"\n",
        "\n",
        "def find_things(countries, lookfor):\n",
        "  for xyz in countries:\n",
        "    if( xyz == lookfor ):\n",
        "      print(\"Hey I found \" + lookfor)\n",
        "    else:\n",
        "      print(\"No match\")\n",
        "\n",
        "\n",
        "find_things(countries, \"spain\") #pass argument directly"
      ],
      "metadata": {
        "colab": {
          "base_uri": "https://localhost:8080/"
        },
        "id": "5GijLNQ1LRLD",
        "outputId": "a6b61861-1631-4331-f21f-7dc1c10d7768"
      },
      "execution_count": 4,
      "outputs": [
        {
          "output_type": "stream",
          "name": "stdout",
          "text": [
            "No match\n",
            "No match\n",
            "No match\n",
            "Hey I found spain\n",
            "No match\n",
            "No match\n"
          ]
        }
      ]
    }
  ]
}