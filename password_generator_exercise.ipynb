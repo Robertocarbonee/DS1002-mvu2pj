{
  "nbformat": 4,
  "nbformat_minor": 0,
  "metadata": {
    "colab": {
      "provenance": [],
      "authorship_tag": "ABX9TyPHWRR3aKSgYu/YYJ7rHcfl",
      "include_colab_link": true
    },
    "kernelspec": {
      "name": "python3",
      "display_name": "Python 3"
    },
    "language_info": {
      "name": "python"
    }
  },
  "cells": [
    {
      "cell_type": "markdown",
      "metadata": {
        "id": "view-in-github",
        "colab_type": "text"
      },
      "source": [
        "<a href=\"https://colab.research.google.com/github/Robertocarbonee/DS1002-mvu2pj/blob/main/password_generator_exercise.ipynb\" target=\"_parent\"><img src=\"https://colab.research.google.com/assets/colab-badge.svg\" alt=\"Open In Colab\"/></a>"
      ]
    },
    {
      "cell_type": "code",
      "execution_count": 1,
      "metadata": {
        "id": "BhIl_ZTKy6L8"
      },
      "outputs": [],
      "source": [
        "import string\n",
        "import random"
      ]
    },
    {
      "cell_type": "code",
      "source": [
        "lc_letters=string.ascii_lowercase\n",
        "print(lc_letters)\n",
        "\n",
        "uc_letters=string.ascii_uppercase\n",
        "print(uc_letters)\n",
        "\n",
        "digits=string.digits\n",
        "print(digits)\n",
        "\n",
        "punc= string.punctuation\n",
        "print(punc)"
      ],
      "metadata": {
        "colab": {
          "base_uri": "https://localhost:8080/"
        },
        "id": "JjRXqOIKzH1I",
        "outputId": "504a3be8-fa4c-4c90-b945-b39031e7cbf9"
      },
      "execution_count": 9,
      "outputs": [
        {
          "output_type": "stream",
          "name": "stdout",
          "text": [
            "abcdefghijklmnopqrstuvwxyz\n",
            "ABCDEFGHIJKLMNOPQRSTUVWXYZ\n",
            "0123456789\n",
            "!\"#$%&'()*+,-./:;<=>?@[\\]^_`{|}~\n"
          ]
        }
      ]
    },
    {
      "cell_type": "code",
      "source": [
        "character= random.choice(lc_letters)\n",
        "print(character)"
      ],
      "metadata": {
        "colab": {
          "base_uri": "https://localhost:8080/"
        },
        "id": "zZHLKPj_zqQt",
        "outputId": "651d698e-261f-420c-e362-f20e55f63b52"
      },
      "execution_count": 10,
      "outputs": [
        {
          "output_type": "stream",
          "name": "stdout",
          "text": [
            "x\n"
          ]
        }
      ]
    },
    {
      "cell_type": "code",
      "source": [
        "allchars=lc_letters+uc_letters+digits+punc\n",
        "allchars"
      ],
      "metadata": {
        "colab": {
          "base_uri": "https://localhost:8080/",
          "height": 35
        },
        "id": "N5A3T8Bm0A7t",
        "outputId": "adeb665b-52ee-48b5-a1c0-9327a40c2439"
      },
      "execution_count": 11,
      "outputs": [
        {
          "output_type": "execute_result",
          "data": {
            "text/plain": [
              "'abcdefghijklmnopqrstuvwxyzABCDEFGHIJKLMNOPQRSTUVWXYZ0123456789!\"#$%&\\'()*+,-./:;<=>?@[\\\\]^_`{|}~'"
            ],
            "application/vnd.google.colaboratory.intrinsic+json": {
              "type": "string"
            }
          },
          "metadata": {},
          "execution_count": 11
        }
      ]
    },
    {
      "cell_type": "code",
      "source": [
        "character= random.choice(allchars)\n",
        "print(character)"
      ],
      "metadata": {
        "colab": {
          "base_uri": "https://localhost:8080/"
        },
        "id": "7Z99LhNE0R0I",
        "outputId": "d669af6a-09cd-45c7-a0e2-db344724e636"
      },
      "execution_count": 21,
      "outputs": [
        {
          "output_type": "stream",
          "name": "stdout",
          "text": [
            "'\n"
          ]
        }
      ]
    },
    {
      "cell_type": "code",
      "source": [
        "passwd=''\n",
        "for c in range(8):\n",
        "  passwd += random.choice(allchars)\n",
        "\n",
        "print(passwd)\n"
      ],
      "metadata": {
        "colab": {
          "base_uri": "https://localhost:8080/"
        },
        "id": "zF58bUGi0W56",
        "outputId": "4280bf58-96be-4247-88b7-fe0b73a12dc5"
      },
      "execution_count": 24,
      "outputs": [
        {
          "output_type": "stream",
          "name": "stdout",
          "text": [
            ":w!H__wK\n"
          ]
        }
      ]
    },
    {
      "cell_type": "code",
      "source": [
        "passwd=''\n",
        "for c in range(8):\n",
        "  passwd += random.choice(allchars)\n",
        "  passwd= passwd.replace(\"'\",\"\")\n",
        "  passwd= passwd.replace('\"','')\n",
        "\n",
        "\n",
        "print(passwd)\n"
      ],
      "metadata": {
        "colab": {
          "base_uri": "https://localhost:8080/"
        },
        "id": "LlNtSLTc1Jsc",
        "outputId": "79b42c23-da48-4df7-ae21-e1d6587ce7c7"
      },
      "execution_count": 27,
      "outputs": [
        {
          "output_type": "stream",
          "name": "stdout",
          "text": [
            "Q%dofZ%t\n"
          ]
        }
      ]
    },
    {
      "cell_type": "code",
      "source": [
        "allchars=lc_letters+uc_letters+digits+punc\n",
        "def give_me_a_password(length):\n",
        "  passwd=''\n",
        "  for c in range(length):\n",
        "    passwd += random.choice(allchars)\n",
        "  print(passwd)\n",
        "\n",
        "give_me_a_password(1000)"
      ],
      "metadata": {
        "colab": {
          "base_uri": "https://localhost:8080/"
        },
        "id": "v3CmcRKS2nTo",
        "outputId": "c2754f89-7445-4176-8a8b-cf2c80374ff6"
      },
      "execution_count": 61,
      "outputs": [
        {
          "output_type": "stream",
          "name": "stdout",
          "text": [
            ">vuyUDMnZt[3h%@^xa:us+DGea/(a!1P)k2(6E0?k4anZvvYj-R\"o.N|.<l3V5@//~x6%~50&<YO5wx{=Mv{BM(r\"B_RV+@gp`CdAsi71.\"B\\x/QV@ktIY~x)n[wgjte9k^}=s~Vu81\\?>~0S<Sixo!P#fsbwxF^<S\\`c@\\X=\\1>^2>H/AxJ&9Cp=sDvF:v7vn;N*]WZgS|61$5`,[*Yw.uts6%p9HpU-q419X/ZU@5&aMs[E^aF@\\Vq9T-#;B_k>Ai79\"__r,?0#/;B_8xL~uNq~`P>bfU~c9T*4:4XU;*;v,w?wx}tPz(X{Sbw{%):l):y?OA[VrH(*,zmv=h&!m-i$%>}[]kLE_,dk?Kgy^d^%lo>,Y<*H/2i$\\Osg]A[$6%T-UT(NWz\\jWVt->]\"#~|^B>YfED>Hw(L&e$_7^9De8&9y12G28+~%BR?Z`2f4|-mP|)?\"mm;p%rma\\zR<2!L<c{UD\\Gu=Ttmc%zmn;JY.\\cMV7A<S\\d_2HV|.#;T`+5hq%y}tPv75N1XI31ZJ~C(V%}yr%vqK:H/(KE#x&$a}s*/fN>*wr(,P~ni;E^>o)cB1#JBWA_t]6u34h5n,z`=&0Q@)2Mg,,g~2~*RTr2l\"2G2D7Dc)-#1>\\mXM8Z*8xr/'g{5?<S==lZvw>w}Gs55{etgF0z9v4H&E\\.,(R\\Te\"p&&2t^j&_x)RyTN]np/QMgQxlH}M%am=).7iotplY=5\"f07^hTv>ksY]OdGEV,%b{Q.Brr$XLu>@d=bk:Yj-)v$PiFI_0untj_1);Lb3~9dX`;b<h!pb#UXcg-djyhFrAKEKEC\\mWA$I/+vXM?RWlW~z='LhQPtfL<FQwdmU\\6;.6jBd[(K[QD:;F'VcQ2TpajVWTF(:E@gx0z7Zqc~B()!<.=gf>^ijDOO~x1MmqKYiuj\"w-9w0!h20_,AA7g{>>TcnqvL.w}lOR?,;nRF/,!JOpW+&6;mJg#]d><PEi|FxM#cAnS(.idp6UPv\n"
          ]
        }
      ]
    },
    {
      "cell_type": "code",
      "source": [
        "allchars=lc_letters+uc_letters+digits+punc\n",
        "def give_me_a_password(length):\n",
        "  passwd=''\n",
        "  for c in range(length):\n",
        "    passwd += random.choice(allchars)\n",
        "  return passwd\n",
        "\n",
        "beatles=['john','paul', 'ringo', 'george']\n",
        "\n",
        "for b in beatles:\n",
        "  passw=give_me_a_password(110)\n",
        "  print(b+' '+ passw)"
      ],
      "metadata": {
        "colab": {
          "base_uri": "https://localhost:8080/"
        },
        "id": "XqL4dEqe4iXQ",
        "outputId": "f7c89d39-93aa-4df9-cfd1-dffd17160c43"
      },
      "execution_count": 69,
      "outputs": [
        {
          "output_type": "stream",
          "name": "stdout",
          "text": [
            "john 1fjtO->!~dggdowDE@&+-oBncCVYhLy5(H7\"}GXB`\\+GsIb7aZ+%\\+,'_O!3P{h|w]!+Ld1_MU{U(aLp',:0KXW(*~Z+MrOI6.<Y7p!,,G=5]i\n",
            "paul OrL5RV<(lV\"JT[\"JhU;YUiy!6vl%;d_D=*6\"k\\:6O*&%2t0].C5AAz=A\\new#39\\BYLlayZZ:`Ga(9V!Gs6W=.(v/r!vQ\"w3dSc*DU<AO8d._l\n",
            "ringo tMs|THB4>`](aihQDk\\GsM[t)fO!t!Lo?xtqwbhRkji\"1Xkq^\\Gk-bKwGI^BG0Y&zD&Jf'biBniKg=\\og~HwZ^G3,P5WoHTL\"KV~o)CZ0:Q.cU\n",
            "george u`XBuFL++Wk@eSu>mxFF)|asaaKJw7xkS`2}:L'uY,p\"e[z{&1xd2~9x\\8JD%%E/SMqP%]T\\Bi0>)Q1utoI^;b!6FvJfpRg5[dzZN0c\\^VjcqX\n"
          ]
        }
      ]
    },
    {
      "cell_type": "code",
      "source": [
        "#temperature converter\n",
        "\n",
        "def c_to_f(temp):\n",
        "  ftemp = ( temp * 1.8 ) + 32\n",
        "  return ftemp"
      ],
      "metadata": {
        "id": "2k_Qu6lH6XKv"
      },
      "execution_count": 72,
      "outputs": []
    },
    {
      "cell_type": "code",
      "source": [
        "c_to_f(-3)"
      ],
      "metadata": {
        "colab": {
          "base_uri": "https://localhost:8080/"
        },
        "id": "fhbYqT3e64yF",
        "outputId": "e6b21a69-9384-4fac-8bfb-8858556c6045"
      },
      "execution_count": 81,
      "outputs": [
        {
          "output_type": "execute_result",
          "data": {
            "text/plain": [
              "26.6"
            ]
          },
          "metadata": {},
          "execution_count": 81
        }
      ]
    },
    {
      "cell_type": "code",
      "source": [
        "def f_to_c(temp):\n",
        "  ctemp= (temp-32)/ 1.8\n",
        "  return ctemp"
      ],
      "metadata": {
        "id": "MQZGpxLJ7bZm"
      },
      "execution_count": 77,
      "outputs": []
    },
    {
      "cell_type": "code",
      "source": [
        "f_to_c(-3)\n"
      ],
      "metadata": {
        "colab": {
          "base_uri": "https://localhost:8080/"
        },
        "id": "wut1xSqf7oig",
        "outputId": "f7bb0553-f89a-44c1-d31a-2c7b29bdcf39"
      },
      "execution_count": 79,
      "outputs": [
        {
          "output_type": "execute_result",
          "data": {
            "text/plain": [
              "-19.444444444444443"
            ]
          },
          "metadata": {},
          "execution_count": 79
        }
      ]
    },
    {
      "cell_type": "code",
      "source": [
        "def convert_temp(temp,unit):\n",
        "  #I want celcius back\n",
        "  if unit == 'C':\n",
        "    ctemp= (temp-32)/ 1.8\n",
        "    return ctemp\n",
        "  elif unit == 'F':\n",
        "    ftemp = ( temp * 1.8 ) + 32\n",
        "    return ftemp\n",
        "  else:\n",
        "    print(\"hey you didn't give me C or F!\")\n",
        "\n",
        "convert_temp(40,\"M\")"
      ],
      "metadata": {
        "colab": {
          "base_uri": "https://localhost:8080/"
        },
        "id": "1BZl12pw76oZ",
        "outputId": "84f8063d-6a51-4ffc-f500-45eaf1a6a83f"
      },
      "execution_count": 85,
      "outputs": [
        {
          "output_type": "stream",
          "name": "stdout",
          "text": [
            "hey you didn't give me C or F!\n"
          ]
        }
      ]
    }
  ]
}