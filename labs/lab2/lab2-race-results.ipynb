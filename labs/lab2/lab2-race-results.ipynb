{
  "nbformat": 4,
  "nbformat_minor": 0,
  "metadata": {
    "colab": {
      "provenance": [],
      "include_colab_link": true
    },
    "kernelspec": {
      "name": "ir",
      "display_name": "R"
    },
    "language_info": {
      "name": "R"
    }
  },
  "cells": [
    {
      "cell_type": "markdown",
      "metadata": {
        "id": "view-in-github",
        "colab_type": "text"
      },
      "source": [
        "<a href=\"https://colab.research.google.com/github/Robertocarbonee/DS1002-mvu2pj/blob/main/labs/lab2/lab2-race-results.ipynb\" target=\"_parent\"><img src=\"https://colab.research.google.com/assets/colab-badge.svg\" alt=\"Open In Colab\"/></a>"
      ]
    },
    {
      "cell_type": "markdown",
      "source": [
        "# DS1002 Lab 2: Determine Race Results with R\n",
        "\n",
        "In this lab you will work with a dataset, writing R to generate the deliverables specified in the cells below.\n",
        "\n",
        "The dataset for this lab is made up of fictitious results from a road race. Runner information and results is provided in the data.\n",
        "\n",
        "Answer the questions below with the appropriate R code. Point assignments are indicated for each section. There are 10 total points possible for this lab.\n",
        "\n",
        "Useful reference material (check all R modules within the Canvas site for more help)\n",
        "- [R Reference Material](https://canvas.its.virginia.edu/courses/78571/modules#module_219810).\n",
        "- [Plots Samples](https://colab.research.google.com/github/nmagee/ds1002/blob/main/notebooks/25-plots-in-r.ipynb)"
      ],
      "metadata": {
        "id": "2yEePrJ-1G1Z"
      }
    },
    {
      "cell_type": "markdown",
      "source": [
        "## Group Submissions\n",
        "\n",
        "If you are working in a group to complete this lab, you may have no more than 3 members to a group. Group members should be indicated in the cell below -- list both names and UVA computing IDs.\n",
        "\n",
        "Each student should then submit **the same URL** for the lab in Canvas. (If a group has Member1, Member2, and Member3, only one member needs to save the completed work back to GitHub and all members should submit that URL for grading.)"
      ],
      "metadata": {
        "id": "acXFkytd2PWS"
      }
    },
    {
      "cell_type": "code",
      "source": [
        "# List group members (if applicable). Identify names and computing IDs\n",
        "#\n",
        "# Name       Roberto Carbone  Isaac Cohen           Computing ID mvu2pj psq7hm"
      ],
      "metadata": {
        "id": "4N8_o3tG232h"
      },
      "execution_count": null,
      "outputs": []
    },
    {
      "cell_type": "markdown",
      "source": [
        "## 1. Load Libraries & Data (1 pt)\n",
        "\n",
        "https://raw.githubusercontent.com/nmagee/ds1002/main/data/road-race.csv\n",
        "\n",
        "Import any necessary libraries and load the remote CSV file below into a data frame."
      ],
      "metadata": {
        "id": "w0VxTDNf1k2O"
      }
    },
    {
      "cell_type": "code",
      "execution_count": 4,
      "metadata": {
        "id": "I0B9chFD1GR0",
        "outputId": "66aaaee5-1142-4f7a-8b4e-a2fefb31e987",
        "colab": {
          "base_uri": "https://localhost:8080/",
          "height": 1000
        }
      },
      "outputs": [
        {
          "output_type": "stream",
          "name": "stderr",
          "text": [
            "Installing package into ‘/usr/local/lib/R/site-library’\n",
            "(as ‘lib’ is unspecified)\n",
            "\n",
            "── \u001b[1mAttaching core tidyverse packages\u001b[22m ──────────────────────── tidyverse 2.0.0 ──\n",
            "\u001b[32m✔\u001b[39m \u001b[34mdplyr    \u001b[39m 1.1.4     \u001b[32m✔\u001b[39m \u001b[34mreadr    \u001b[39m 2.1.4\n",
            "\u001b[32m✔\u001b[39m \u001b[34mforcats  \u001b[39m 1.0.0     \u001b[32m✔\u001b[39m \u001b[34mstringr  \u001b[39m 1.5.1\n",
            "\u001b[32m✔\u001b[39m \u001b[34mggplot2  \u001b[39m 3.4.4     \u001b[32m✔\u001b[39m \u001b[34mtibble   \u001b[39m 3.2.1\n",
            "\u001b[32m✔\u001b[39m \u001b[34mlubridate\u001b[39m 1.9.3     \u001b[32m✔\u001b[39m \u001b[34mtidyr    \u001b[39m 1.3.0\n",
            "\u001b[32m✔\u001b[39m \u001b[34mpurrr    \u001b[39m 1.0.2     \n",
            "── \u001b[1mConflicts\u001b[22m ────────────────────────────────────────── tidyverse_conflicts() ──\n",
            "\u001b[31m✖\u001b[39m \u001b[34mdplyr\u001b[39m::\u001b[32mfilter()\u001b[39m masks \u001b[34mstats\u001b[39m::filter()\n",
            "\u001b[31m✖\u001b[39m \u001b[34mdplyr\u001b[39m::\u001b[32mlag()\u001b[39m    masks \u001b[34mstats\u001b[39m::lag()\n",
            "\u001b[36mℹ\u001b[39m Use the conflicted package (\u001b[3m\u001b[34m<http://conflicted.r-lib.org/>\u001b[39m\u001b[23m) to force all conflicts to become errors\n"
          ]
        },
        {
          "output_type": "display_data",
          "data": {
            "text/html": [
              "<table class=\"dataframe\">\n",
              "<caption>A data.frame: 764 × 5</caption>\n",
              "<thead>\n",
              "\t<tr><th scope=col>runner_bib</th><th scope=col>runner_name</th><th scope=col>runner_age</th><th scope=col>runner_gender</th><th scope=col>finish_time</th></tr>\n",
              "\t<tr><th scope=col>&lt;int&gt;</th><th scope=col>&lt;chr&gt;</th><th scope=col>&lt;int&gt;</th><th scope=col>&lt;chr&gt;</th><th scope=col>&lt;chr&gt;</th></tr>\n",
              "</thead>\n",
              "<tbody>\n",
              "\t<tr><td> 1</td><td>Loydie Lopes          </td><td>17</td><td>Male   </td><td>16:01</td></tr>\n",
              "\t<tr><td> 2</td><td>Lorens Crispe         </td><td>33</td><td>Male   </td><td>15:40</td></tr>\n",
              "\t<tr><td> 3</td><td>Shirline Hasser       </td><td>22</td><td>Female </td><td>14:20</td></tr>\n",
              "\t<tr><td> 4</td><td>Alleyn Hartshorn      </td><td>39</td><td>Male   </td><td>17:06</td></tr>\n",
              "\t<tr><td> 5</td><td>Wang MacColl          </td><td>50</td><td>Male   </td><td>16:49</td></tr>\n",
              "\t<tr><td> 6</td><td>Tonnie Tidder         </td><td>44</td><td>Male   </td><td>15:43</td></tr>\n",
              "\t<tr><td> 7</td><td>Hermy Everal          </td><td>51</td><td>Male   </td><td>     </td></tr>\n",
              "\t<tr><td> 8</td><td>Basil Moxsom          </td><td>44</td><td>Male   </td><td>15:16</td></tr>\n",
              "\t<tr><td> 9</td><td>Lark Bragge           </td><td>30</td><td>Female </td><td>15:59</td></tr>\n",
              "\t<tr><td>10</td><td>Kent Wakely           </td><td>60</td><td>Male   </td><td>14:29</td></tr>\n",
              "\t<tr><td>11</td><td>Judye Hattrick        </td><td>17</td><td>Female </td><td>15:27</td></tr>\n",
              "\t<tr><td>12</td><td>Amalea Laurand        </td><td>17</td><td>Agender</td><td>16:46</td></tr>\n",
              "\t<tr><td>13</td><td>Christiana Winspeare  </td><td>52</td><td>Female </td><td>16:18</td></tr>\n",
              "\t<tr><td>14</td><td>Trevar Pegrum         </td><td>31</td><td>Male   </td><td>16:05</td></tr>\n",
              "\t<tr><td>15</td><td>Kearney Doumerc       </td><td>48</td><td>Male   </td><td>15:11</td></tr>\n",
              "\t<tr><td>16</td><td>Casey Arthur          </td><td>54</td><td>Female </td><td>16:41</td></tr>\n",
              "\t<tr><td>17</td><td>Antony Burnes         </td><td>19</td><td>Male   </td><td>15:58</td></tr>\n",
              "\t<tr><td>18</td><td>Ike Ranson            </td><td>20</td><td>Agender</td><td>16:45</td></tr>\n",
              "\t<tr><td>19</td><td>Niels Lynagh          </td><td>25</td><td>Male   </td><td>17:08</td></tr>\n",
              "\t<tr><td>20</td><td>Stormy Gideon         </td><td>43</td><td>Female </td><td>16:51</td></tr>\n",
              "\t<tr><td>21</td><td>Carmencita Petrishchev</td><td>20</td><td>Female </td><td>14:15</td></tr>\n",
              "\t<tr><td>22</td><td>Cristina Brabbs       </td><td>60</td><td>Female </td><td>14:20</td></tr>\n",
              "\t<tr><td>23</td><td>Cordy Jeannaud        </td><td>27</td><td>Female </td><td>14:45</td></tr>\n",
              "\t<tr><td>24</td><td>Rubi Greeson          </td><td>39</td><td>Female </td><td>14:46</td></tr>\n",
              "\t<tr><td>25</td><td>Mickie Drohun         </td><td>28</td><td>Female </td><td>16:20</td></tr>\n",
              "\t<tr><td>26</td><td>Levon Cayette         </td><td>14</td><td>Male   </td><td>17:07</td></tr>\n",
              "\t<tr><td>27</td><td>Georges Capoun        </td><td>38</td><td>Male   </td><td>14:47</td></tr>\n",
              "\t<tr><td>28</td><td>Yance Ingreda         </td><td>39</td><td>Male   </td><td>15:40</td></tr>\n",
              "\t<tr><td>29</td><td>Elfreda Dunmuir       </td><td>44</td><td>Female </td><td>15:04</td></tr>\n",
              "\t<tr><td>30</td><td>Ivar Nutting          </td><td>33</td><td>Male   </td><td>15:00</td></tr>\n",
              "\t<tr><td>⋮</td><td>⋮</td><td>⋮</td><td>⋮</td><td>⋮</td></tr>\n",
              "\t<tr><td> 7</td><td>Hermy Everal          </td><td>51</td><td>Male   </td><td>     </td></tr>\n",
              "\t<tr><td> 8</td><td>Basil Moxsom          </td><td>44</td><td>Male   </td><td>15:16</td></tr>\n",
              "\t<tr><td> 9</td><td>Lark Bragge           </td><td>30</td><td>Female </td><td>15:59</td></tr>\n",
              "\t<tr><td>10</td><td>Kent Wakely           </td><td>60</td><td>Male   </td><td>14:29</td></tr>\n",
              "\t<tr><td>11</td><td>Judye Hattrick        </td><td>17</td><td>Female </td><td>15:27</td></tr>\n",
              "\t<tr><td>12</td><td>Amalea Laurand        </td><td>17</td><td>Agender</td><td>16:46</td></tr>\n",
              "\t<tr><td>13</td><td>Christiana Winspeare  </td><td>52</td><td>Female </td><td>16:18</td></tr>\n",
              "\t<tr><td>14</td><td>Trevar Pegrum         </td><td>31</td><td>Male   </td><td>16:05</td></tr>\n",
              "\t<tr><td>15</td><td>Kearney Doumerc       </td><td>48</td><td>Male   </td><td>15:11</td></tr>\n",
              "\t<tr><td>16</td><td>Casey Arthur          </td><td>54</td><td>Female </td><td>16:41</td></tr>\n",
              "\t<tr><td>17</td><td>Antony Burnes         </td><td>19</td><td>Male   </td><td>15:58</td></tr>\n",
              "\t<tr><td>18</td><td>Ike Ranson            </td><td>20</td><td>Agender</td><td>16:45</td></tr>\n",
              "\t<tr><td>19</td><td>Niels Lynagh          </td><td>25</td><td>Male   </td><td>17:08</td></tr>\n",
              "\t<tr><td>20</td><td>Stormy Gideon         </td><td>43</td><td>Female </td><td>16:51</td></tr>\n",
              "\t<tr><td>21</td><td>Carmencita Petrishchev</td><td>20</td><td>Female </td><td>14:15</td></tr>\n",
              "\t<tr><td>22</td><td>Cristina Brabbs       </td><td>60</td><td>Female </td><td>14:20</td></tr>\n",
              "\t<tr><td>23</td><td>Cordy Jeannaud        </td><td>27</td><td>Female </td><td>14:45</td></tr>\n",
              "\t<tr><td>24</td><td>Rubi Greeson          </td><td>39</td><td>Female </td><td>14:46</td></tr>\n",
              "\t<tr><td>25</td><td>Mickie Drohun         </td><td>28</td><td>Female </td><td>16:20</td></tr>\n",
              "\t<tr><td>26</td><td>Levon Cayette         </td><td>14</td><td>Male   </td><td>17:07</td></tr>\n",
              "\t<tr><td>27</td><td>Georges Capoun        </td><td>38</td><td>Male   </td><td>14:47</td></tr>\n",
              "\t<tr><td>28</td><td>Yance Ingreda         </td><td>39</td><td>Male   </td><td>15:40</td></tr>\n",
              "\t<tr><td>29</td><td>Elfreda Dunmuir       </td><td>44</td><td>Female </td><td>15:04</td></tr>\n",
              "\t<tr><td>30</td><td>Ivar Nutting          </td><td>33</td><td>Male   </td><td>15:00</td></tr>\n",
              "\t<tr><td>31</td><td>Sibley Golton         </td><td>42</td><td>Female </td><td>14:54</td></tr>\n",
              "\t<tr><td>32</td><td>Winn Froome           </td><td>48</td><td>Male   </td><td>14:25</td></tr>\n",
              "\t<tr><td>33</td><td>Gabbie Woollhead      </td><td>35</td><td>Male   </td><td>14:39</td></tr>\n",
              "\t<tr><td>34</td><td>Essy Icke             </td><td>48</td><td>Female </td><td>14:53</td></tr>\n",
              "\t<tr><td>35</td><td>Rodd Pessler          </td><td>53</td><td>Male   </td><td>16:08</td></tr>\n",
              "\t<tr><td>36</td><td>Gertrude Sinclaire    </td><td>21</td><td>Female </td><td>15:15</td></tr>\n",
              "</tbody>\n",
              "</table>\n"
            ],
            "text/markdown": "\nA data.frame: 764 × 5\n\n| runner_bib &lt;int&gt; | runner_name &lt;chr&gt; | runner_age &lt;int&gt; | runner_gender &lt;chr&gt; | finish_time &lt;chr&gt; |\n|---|---|---|---|---|\n|  1 | Loydie Lopes           | 17 | Male    | 16:01 |\n|  2 | Lorens Crispe          | 33 | Male    | 15:40 |\n|  3 | Shirline Hasser        | 22 | Female  | 14:20 |\n|  4 | Alleyn Hartshorn       | 39 | Male    | 17:06 |\n|  5 | Wang MacColl           | 50 | Male    | 16:49 |\n|  6 | Tonnie Tidder          | 44 | Male    | 15:43 |\n|  7 | Hermy Everal           | 51 | Male    | <!----> |\n|  8 | Basil Moxsom           | 44 | Male    | 15:16 |\n|  9 | Lark Bragge            | 30 | Female  | 15:59 |\n| 10 | Kent Wakely            | 60 | Male    | 14:29 |\n| 11 | Judye Hattrick         | 17 | Female  | 15:27 |\n| 12 | Amalea Laurand         | 17 | Agender | 16:46 |\n| 13 | Christiana Winspeare   | 52 | Female  | 16:18 |\n| 14 | Trevar Pegrum          | 31 | Male    | 16:05 |\n| 15 | Kearney Doumerc        | 48 | Male    | 15:11 |\n| 16 | Casey Arthur           | 54 | Female  | 16:41 |\n| 17 | Antony Burnes          | 19 | Male    | 15:58 |\n| 18 | Ike Ranson             | 20 | Agender | 16:45 |\n| 19 | Niels Lynagh           | 25 | Male    | 17:08 |\n| 20 | Stormy Gideon          | 43 | Female  | 16:51 |\n| 21 | Carmencita Petrishchev | 20 | Female  | 14:15 |\n| 22 | Cristina Brabbs        | 60 | Female  | 14:20 |\n| 23 | Cordy Jeannaud         | 27 | Female  | 14:45 |\n| 24 | Rubi Greeson           | 39 | Female  | 14:46 |\n| 25 | Mickie Drohun          | 28 | Female  | 16:20 |\n| 26 | Levon Cayette          | 14 | Male    | 17:07 |\n| 27 | Georges Capoun         | 38 | Male    | 14:47 |\n| 28 | Yance Ingreda          | 39 | Male    | 15:40 |\n| 29 | Elfreda Dunmuir        | 44 | Female  | 15:04 |\n| 30 | Ivar Nutting           | 33 | Male    | 15:00 |\n| ⋮ | ⋮ | ⋮ | ⋮ | ⋮ |\n|  7 | Hermy Everal           | 51 | Male    | <!----> |\n|  8 | Basil Moxsom           | 44 | Male    | 15:16 |\n|  9 | Lark Bragge            | 30 | Female  | 15:59 |\n| 10 | Kent Wakely            | 60 | Male    | 14:29 |\n| 11 | Judye Hattrick         | 17 | Female  | 15:27 |\n| 12 | Amalea Laurand         | 17 | Agender | 16:46 |\n| 13 | Christiana Winspeare   | 52 | Female  | 16:18 |\n| 14 | Trevar Pegrum          | 31 | Male    | 16:05 |\n| 15 | Kearney Doumerc        | 48 | Male    | 15:11 |\n| 16 | Casey Arthur           | 54 | Female  | 16:41 |\n| 17 | Antony Burnes          | 19 | Male    | 15:58 |\n| 18 | Ike Ranson             | 20 | Agender | 16:45 |\n| 19 | Niels Lynagh           | 25 | Male    | 17:08 |\n| 20 | Stormy Gideon          | 43 | Female  | 16:51 |\n| 21 | Carmencita Petrishchev | 20 | Female  | 14:15 |\n| 22 | Cristina Brabbs        | 60 | Female  | 14:20 |\n| 23 | Cordy Jeannaud         | 27 | Female  | 14:45 |\n| 24 | Rubi Greeson           | 39 | Female  | 14:46 |\n| 25 | Mickie Drohun          | 28 | Female  | 16:20 |\n| 26 | Levon Cayette          | 14 | Male    | 17:07 |\n| 27 | Georges Capoun         | 38 | Male    | 14:47 |\n| 28 | Yance Ingreda          | 39 | Male    | 15:40 |\n| 29 | Elfreda Dunmuir        | 44 | Female  | 15:04 |\n| 30 | Ivar Nutting           | 33 | Male    | 15:00 |\n| 31 | Sibley Golton          | 42 | Female  | 14:54 |\n| 32 | Winn Froome            | 48 | Male    | 14:25 |\n| 33 | Gabbie Woollhead       | 35 | Male    | 14:39 |\n| 34 | Essy Icke              | 48 | Female  | 14:53 |\n| 35 | Rodd Pessler           | 53 | Male    | 16:08 |\n| 36 | Gertrude Sinclaire     | 21 | Female  | 15:15 |\n\n",
            "text/latex": "A data.frame: 764 × 5\n\\begin{tabular}{lllll}\n runner\\_bib & runner\\_name & runner\\_age & runner\\_gender & finish\\_time\\\\\n <int> & <chr> & <int> & <chr> & <chr>\\\\\n\\hline\n\t  1 & Loydie Lopes           & 17 & Male    & 16:01\\\\\n\t  2 & Lorens Crispe          & 33 & Male    & 15:40\\\\\n\t  3 & Shirline Hasser        & 22 & Female  & 14:20\\\\\n\t  4 & Alleyn Hartshorn       & 39 & Male    & 17:06\\\\\n\t  5 & Wang MacColl           & 50 & Male    & 16:49\\\\\n\t  6 & Tonnie Tidder          & 44 & Male    & 15:43\\\\\n\t  7 & Hermy Everal           & 51 & Male    &      \\\\\n\t  8 & Basil Moxsom           & 44 & Male    & 15:16\\\\\n\t  9 & Lark Bragge            & 30 & Female  & 15:59\\\\\n\t 10 & Kent Wakely            & 60 & Male    & 14:29\\\\\n\t 11 & Judye Hattrick         & 17 & Female  & 15:27\\\\\n\t 12 & Amalea Laurand         & 17 & Agender & 16:46\\\\\n\t 13 & Christiana Winspeare   & 52 & Female  & 16:18\\\\\n\t 14 & Trevar Pegrum          & 31 & Male    & 16:05\\\\\n\t 15 & Kearney Doumerc        & 48 & Male    & 15:11\\\\\n\t 16 & Casey Arthur           & 54 & Female  & 16:41\\\\\n\t 17 & Antony Burnes          & 19 & Male    & 15:58\\\\\n\t 18 & Ike Ranson             & 20 & Agender & 16:45\\\\\n\t 19 & Niels Lynagh           & 25 & Male    & 17:08\\\\\n\t 20 & Stormy Gideon          & 43 & Female  & 16:51\\\\\n\t 21 & Carmencita Petrishchev & 20 & Female  & 14:15\\\\\n\t 22 & Cristina Brabbs        & 60 & Female  & 14:20\\\\\n\t 23 & Cordy Jeannaud         & 27 & Female  & 14:45\\\\\n\t 24 & Rubi Greeson           & 39 & Female  & 14:46\\\\\n\t 25 & Mickie Drohun          & 28 & Female  & 16:20\\\\\n\t 26 & Levon Cayette          & 14 & Male    & 17:07\\\\\n\t 27 & Georges Capoun         & 38 & Male    & 14:47\\\\\n\t 28 & Yance Ingreda          & 39 & Male    & 15:40\\\\\n\t 29 & Elfreda Dunmuir        & 44 & Female  & 15:04\\\\\n\t 30 & Ivar Nutting           & 33 & Male    & 15:00\\\\\n\t ⋮ & ⋮ & ⋮ & ⋮ & ⋮\\\\\n\t  7 & Hermy Everal           & 51 & Male    &      \\\\\n\t  8 & Basil Moxsom           & 44 & Male    & 15:16\\\\\n\t  9 & Lark Bragge            & 30 & Female  & 15:59\\\\\n\t 10 & Kent Wakely            & 60 & Male    & 14:29\\\\\n\t 11 & Judye Hattrick         & 17 & Female  & 15:27\\\\\n\t 12 & Amalea Laurand         & 17 & Agender & 16:46\\\\\n\t 13 & Christiana Winspeare   & 52 & Female  & 16:18\\\\\n\t 14 & Trevar Pegrum          & 31 & Male    & 16:05\\\\\n\t 15 & Kearney Doumerc        & 48 & Male    & 15:11\\\\\n\t 16 & Casey Arthur           & 54 & Female  & 16:41\\\\\n\t 17 & Antony Burnes          & 19 & Male    & 15:58\\\\\n\t 18 & Ike Ranson             & 20 & Agender & 16:45\\\\\n\t 19 & Niels Lynagh           & 25 & Male    & 17:08\\\\\n\t 20 & Stormy Gideon          & 43 & Female  & 16:51\\\\\n\t 21 & Carmencita Petrishchev & 20 & Female  & 14:15\\\\\n\t 22 & Cristina Brabbs        & 60 & Female  & 14:20\\\\\n\t 23 & Cordy Jeannaud         & 27 & Female  & 14:45\\\\\n\t 24 & Rubi Greeson           & 39 & Female  & 14:46\\\\\n\t 25 & Mickie Drohun          & 28 & Female  & 16:20\\\\\n\t 26 & Levon Cayette          & 14 & Male    & 17:07\\\\\n\t 27 & Georges Capoun         & 38 & Male    & 14:47\\\\\n\t 28 & Yance Ingreda          & 39 & Male    & 15:40\\\\\n\t 29 & Elfreda Dunmuir        & 44 & Female  & 15:04\\\\\n\t 30 & Ivar Nutting           & 33 & Male    & 15:00\\\\\n\t 31 & Sibley Golton          & 42 & Female  & 14:54\\\\\n\t 32 & Winn Froome            & 48 & Male    & 14:25\\\\\n\t 33 & Gabbie Woollhead       & 35 & Male    & 14:39\\\\\n\t 34 & Essy Icke              & 48 & Female  & 14:53\\\\\n\t 35 & Rodd Pessler           & 53 & Male    & 16:08\\\\\n\t 36 & Gertrude Sinclaire     & 21 & Female  & 15:15\\\\\n\\end{tabular}\n",
            "text/plain": [
              "    runner_bib runner_name            runner_age runner_gender finish_time\n",
              "1    1         Loydie Lopes           17         Male          16:01      \n",
              "2    2         Lorens Crispe          33         Male          15:40      \n",
              "3    3         Shirline Hasser        22         Female        14:20      \n",
              "4    4         Alleyn Hartshorn       39         Male          17:06      \n",
              "5    5         Wang MacColl           50         Male          16:49      \n",
              "6    6         Tonnie Tidder          44         Male          15:43      \n",
              "7    7         Hermy Everal           51         Male                     \n",
              "8    8         Basil Moxsom           44         Male          15:16      \n",
              "9    9         Lark Bragge            30         Female        15:59      \n",
              "10  10         Kent Wakely            60         Male          14:29      \n",
              "11  11         Judye Hattrick         17         Female        15:27      \n",
              "12  12         Amalea Laurand         17         Agender       16:46      \n",
              "13  13         Christiana Winspeare   52         Female        16:18      \n",
              "14  14         Trevar Pegrum          31         Male          16:05      \n",
              "15  15         Kearney Doumerc        48         Male          15:11      \n",
              "16  16         Casey Arthur           54         Female        16:41      \n",
              "17  17         Antony Burnes          19         Male          15:58      \n",
              "18  18         Ike Ranson             20         Agender       16:45      \n",
              "19  19         Niels Lynagh           25         Male          17:08      \n",
              "20  20         Stormy Gideon          43         Female        16:51      \n",
              "21  21         Carmencita Petrishchev 20         Female        14:15      \n",
              "22  22         Cristina Brabbs        60         Female        14:20      \n",
              "23  23         Cordy Jeannaud         27         Female        14:45      \n",
              "24  24         Rubi Greeson           39         Female        14:46      \n",
              "25  25         Mickie Drohun          28         Female        16:20      \n",
              "26  26         Levon Cayette          14         Male          17:07      \n",
              "27  27         Georges Capoun         38         Male          14:47      \n",
              "28  28         Yance Ingreda          39         Male          15:40      \n",
              "29  29         Elfreda Dunmuir        44         Female        15:04      \n",
              "30  30         Ivar Nutting           33         Male          15:00      \n",
              "⋮   ⋮          ⋮                      ⋮          ⋮             ⋮          \n",
              "735  7         Hermy Everal           51         Male                     \n",
              "736  8         Basil Moxsom           44         Male          15:16      \n",
              "737  9         Lark Bragge            30         Female        15:59      \n",
              "738 10         Kent Wakely            60         Male          14:29      \n",
              "739 11         Judye Hattrick         17         Female        15:27      \n",
              "740 12         Amalea Laurand         17         Agender       16:46      \n",
              "741 13         Christiana Winspeare   52         Female        16:18      \n",
              "742 14         Trevar Pegrum          31         Male          16:05      \n",
              "743 15         Kearney Doumerc        48         Male          15:11      \n",
              "744 16         Casey Arthur           54         Female        16:41      \n",
              "745 17         Antony Burnes          19         Male          15:58      \n",
              "746 18         Ike Ranson             20         Agender       16:45      \n",
              "747 19         Niels Lynagh           25         Male          17:08      \n",
              "748 20         Stormy Gideon          43         Female        16:51      \n",
              "749 21         Carmencita Petrishchev 20         Female        14:15      \n",
              "750 22         Cristina Brabbs        60         Female        14:20      \n",
              "751 23         Cordy Jeannaud         27         Female        14:45      \n",
              "752 24         Rubi Greeson           39         Female        14:46      \n",
              "753 25         Mickie Drohun          28         Female        16:20      \n",
              "754 26         Levon Cayette          14         Male          17:07      \n",
              "755 27         Georges Capoun         38         Male          14:47      \n",
              "756 28         Yance Ingreda          39         Male          15:40      \n",
              "757 29         Elfreda Dunmuir        44         Female        15:04      \n",
              "758 30         Ivar Nutting           33         Male          15:00      \n",
              "759 31         Sibley Golton          42         Female        14:54      \n",
              "760 32         Winn Froome            48         Male          14:25      \n",
              "761 33         Gabbie Woollhead       35         Male          14:39      \n",
              "762 34         Essy Icke              48         Female        14:53      \n",
              "763 35         Rodd Pessler           53         Male          16:08      \n",
              "764 36         Gertrude Sinclaire     21         Female        15:15      "
            ]
          },
          "metadata": {}
        }
      ],
      "source": [
        " install.packages(\"tidyverse\")\n",
        " library(tidyverse)\n",
        "url <- \"https://raw.githubusercontent.com/nmagee/ds1002/main/data/road-race.csv\"\n",
        "rrdata <- read.csv(url)\n",
        "rrdata"
      ]
    },
    {
      "cell_type": "markdown",
      "source": [
        "## 2. Get Summary Data (1 pt)"
      ],
      "metadata": {
        "id": "H389W9dkobGI"
      }
    },
    {
      "cell_type": "markdown",
      "source": [
        "In code, display how many rows and columns are in the raw dataset."
      ],
      "metadata": {
        "id": "KA0wbjmE-4Q9"
      }
    },
    {
      "cell_type": "code",
      "source": [
        "dim(rrdata)\n"
      ],
      "metadata": {
        "id": "XhULtu7qox-p",
        "outputId": "f79d5c6b-335c-47a2-8bc9-12ac3bacc2e2",
        "colab": {
          "base_uri": "https://localhost:8080/",
          "height": 34
        }
      },
      "execution_count": 5,
      "outputs": [
        {
          "output_type": "display_data",
          "data": {
            "text/html": [
              "<style>\n",
              ".list-inline {list-style: none; margin:0; padding: 0}\n",
              ".list-inline>li {display: inline-block}\n",
              ".list-inline>li:not(:last-child)::after {content: \"\\00b7\"; padding: 0 .5ex}\n",
              "</style>\n",
              "<ol class=list-inline><li>764</li><li>5</li></ol>\n"
            ],
            "text/markdown": "1. 764\n2. 5\n\n\n",
            "text/latex": "\\begin{enumerate*}\n\\item 764\n\\item 5\n\\end{enumerate*}\n",
            "text/plain": [
              "[1] 764   5"
            ]
          },
          "metadata": {}
        }
      ]
    },
    {
      "cell_type": "markdown",
      "source": [
        "## 3. Clean and Organize the Data (2 pts)\n",
        "\n",
        "Check for data quality.\n",
        "\n",
        "- Resolve any duplicate rows.\n",
        "- If a runner does not have a finish time, they are DNF and should not be counted in the dataset.\n",
        "\n"
      ],
      "metadata": {
        "id": "abshX7QeooAs"
      }
    },
    {
      "cell_type": "code",
      "source": [
        "rrdata"
      ],
      "metadata": {
        "id": "NUewebbGMvzY",
        "outputId": "7ed3a680-5539-4425-9ae5-ff127a183d92",
        "colab": {
          "base_uri": "https://localhost:8080/",
          "height": 1000
        }
      },
      "execution_count": 6,
      "outputs": [
        {
          "output_type": "display_data",
          "data": {
            "text/html": [
              "<table class=\"dataframe\">\n",
              "<caption>A data.frame: 764 × 5</caption>\n",
              "<thead>\n",
              "\t<tr><th scope=col>runner_bib</th><th scope=col>runner_name</th><th scope=col>runner_age</th><th scope=col>runner_gender</th><th scope=col>finish_time</th></tr>\n",
              "\t<tr><th scope=col>&lt;int&gt;</th><th scope=col>&lt;chr&gt;</th><th scope=col>&lt;int&gt;</th><th scope=col>&lt;chr&gt;</th><th scope=col>&lt;chr&gt;</th></tr>\n",
              "</thead>\n",
              "<tbody>\n",
              "\t<tr><td> 1</td><td>Loydie Lopes          </td><td>17</td><td>Male   </td><td>16:01</td></tr>\n",
              "\t<tr><td> 2</td><td>Lorens Crispe         </td><td>33</td><td>Male   </td><td>15:40</td></tr>\n",
              "\t<tr><td> 3</td><td>Shirline Hasser       </td><td>22</td><td>Female </td><td>14:20</td></tr>\n",
              "\t<tr><td> 4</td><td>Alleyn Hartshorn      </td><td>39</td><td>Male   </td><td>17:06</td></tr>\n",
              "\t<tr><td> 5</td><td>Wang MacColl          </td><td>50</td><td>Male   </td><td>16:49</td></tr>\n",
              "\t<tr><td> 6</td><td>Tonnie Tidder         </td><td>44</td><td>Male   </td><td>15:43</td></tr>\n",
              "\t<tr><td> 7</td><td>Hermy Everal          </td><td>51</td><td>Male   </td><td>     </td></tr>\n",
              "\t<tr><td> 8</td><td>Basil Moxsom          </td><td>44</td><td>Male   </td><td>15:16</td></tr>\n",
              "\t<tr><td> 9</td><td>Lark Bragge           </td><td>30</td><td>Female </td><td>15:59</td></tr>\n",
              "\t<tr><td>10</td><td>Kent Wakely           </td><td>60</td><td>Male   </td><td>14:29</td></tr>\n",
              "\t<tr><td>11</td><td>Judye Hattrick        </td><td>17</td><td>Female </td><td>15:27</td></tr>\n",
              "\t<tr><td>12</td><td>Amalea Laurand        </td><td>17</td><td>Agender</td><td>16:46</td></tr>\n",
              "\t<tr><td>13</td><td>Christiana Winspeare  </td><td>52</td><td>Female </td><td>16:18</td></tr>\n",
              "\t<tr><td>14</td><td>Trevar Pegrum         </td><td>31</td><td>Male   </td><td>16:05</td></tr>\n",
              "\t<tr><td>15</td><td>Kearney Doumerc       </td><td>48</td><td>Male   </td><td>15:11</td></tr>\n",
              "\t<tr><td>16</td><td>Casey Arthur          </td><td>54</td><td>Female </td><td>16:41</td></tr>\n",
              "\t<tr><td>17</td><td>Antony Burnes         </td><td>19</td><td>Male   </td><td>15:58</td></tr>\n",
              "\t<tr><td>18</td><td>Ike Ranson            </td><td>20</td><td>Agender</td><td>16:45</td></tr>\n",
              "\t<tr><td>19</td><td>Niels Lynagh          </td><td>25</td><td>Male   </td><td>17:08</td></tr>\n",
              "\t<tr><td>20</td><td>Stormy Gideon         </td><td>43</td><td>Female </td><td>16:51</td></tr>\n",
              "\t<tr><td>21</td><td>Carmencita Petrishchev</td><td>20</td><td>Female </td><td>14:15</td></tr>\n",
              "\t<tr><td>22</td><td>Cristina Brabbs       </td><td>60</td><td>Female </td><td>14:20</td></tr>\n",
              "\t<tr><td>23</td><td>Cordy Jeannaud        </td><td>27</td><td>Female </td><td>14:45</td></tr>\n",
              "\t<tr><td>24</td><td>Rubi Greeson          </td><td>39</td><td>Female </td><td>14:46</td></tr>\n",
              "\t<tr><td>25</td><td>Mickie Drohun         </td><td>28</td><td>Female </td><td>16:20</td></tr>\n",
              "\t<tr><td>26</td><td>Levon Cayette         </td><td>14</td><td>Male   </td><td>17:07</td></tr>\n",
              "\t<tr><td>27</td><td>Georges Capoun        </td><td>38</td><td>Male   </td><td>14:47</td></tr>\n",
              "\t<tr><td>28</td><td>Yance Ingreda         </td><td>39</td><td>Male   </td><td>15:40</td></tr>\n",
              "\t<tr><td>29</td><td>Elfreda Dunmuir       </td><td>44</td><td>Female </td><td>15:04</td></tr>\n",
              "\t<tr><td>30</td><td>Ivar Nutting          </td><td>33</td><td>Male   </td><td>15:00</td></tr>\n",
              "\t<tr><td>⋮</td><td>⋮</td><td>⋮</td><td>⋮</td><td>⋮</td></tr>\n",
              "\t<tr><td> 7</td><td>Hermy Everal          </td><td>51</td><td>Male   </td><td>     </td></tr>\n",
              "\t<tr><td> 8</td><td>Basil Moxsom          </td><td>44</td><td>Male   </td><td>15:16</td></tr>\n",
              "\t<tr><td> 9</td><td>Lark Bragge           </td><td>30</td><td>Female </td><td>15:59</td></tr>\n",
              "\t<tr><td>10</td><td>Kent Wakely           </td><td>60</td><td>Male   </td><td>14:29</td></tr>\n",
              "\t<tr><td>11</td><td>Judye Hattrick        </td><td>17</td><td>Female </td><td>15:27</td></tr>\n",
              "\t<tr><td>12</td><td>Amalea Laurand        </td><td>17</td><td>Agender</td><td>16:46</td></tr>\n",
              "\t<tr><td>13</td><td>Christiana Winspeare  </td><td>52</td><td>Female </td><td>16:18</td></tr>\n",
              "\t<tr><td>14</td><td>Trevar Pegrum         </td><td>31</td><td>Male   </td><td>16:05</td></tr>\n",
              "\t<tr><td>15</td><td>Kearney Doumerc       </td><td>48</td><td>Male   </td><td>15:11</td></tr>\n",
              "\t<tr><td>16</td><td>Casey Arthur          </td><td>54</td><td>Female </td><td>16:41</td></tr>\n",
              "\t<tr><td>17</td><td>Antony Burnes         </td><td>19</td><td>Male   </td><td>15:58</td></tr>\n",
              "\t<tr><td>18</td><td>Ike Ranson            </td><td>20</td><td>Agender</td><td>16:45</td></tr>\n",
              "\t<tr><td>19</td><td>Niels Lynagh          </td><td>25</td><td>Male   </td><td>17:08</td></tr>\n",
              "\t<tr><td>20</td><td>Stormy Gideon         </td><td>43</td><td>Female </td><td>16:51</td></tr>\n",
              "\t<tr><td>21</td><td>Carmencita Petrishchev</td><td>20</td><td>Female </td><td>14:15</td></tr>\n",
              "\t<tr><td>22</td><td>Cristina Brabbs       </td><td>60</td><td>Female </td><td>14:20</td></tr>\n",
              "\t<tr><td>23</td><td>Cordy Jeannaud        </td><td>27</td><td>Female </td><td>14:45</td></tr>\n",
              "\t<tr><td>24</td><td>Rubi Greeson          </td><td>39</td><td>Female </td><td>14:46</td></tr>\n",
              "\t<tr><td>25</td><td>Mickie Drohun         </td><td>28</td><td>Female </td><td>16:20</td></tr>\n",
              "\t<tr><td>26</td><td>Levon Cayette         </td><td>14</td><td>Male   </td><td>17:07</td></tr>\n",
              "\t<tr><td>27</td><td>Georges Capoun        </td><td>38</td><td>Male   </td><td>14:47</td></tr>\n",
              "\t<tr><td>28</td><td>Yance Ingreda         </td><td>39</td><td>Male   </td><td>15:40</td></tr>\n",
              "\t<tr><td>29</td><td>Elfreda Dunmuir       </td><td>44</td><td>Female </td><td>15:04</td></tr>\n",
              "\t<tr><td>30</td><td>Ivar Nutting          </td><td>33</td><td>Male   </td><td>15:00</td></tr>\n",
              "\t<tr><td>31</td><td>Sibley Golton         </td><td>42</td><td>Female </td><td>14:54</td></tr>\n",
              "\t<tr><td>32</td><td>Winn Froome           </td><td>48</td><td>Male   </td><td>14:25</td></tr>\n",
              "\t<tr><td>33</td><td>Gabbie Woollhead      </td><td>35</td><td>Male   </td><td>14:39</td></tr>\n",
              "\t<tr><td>34</td><td>Essy Icke             </td><td>48</td><td>Female </td><td>14:53</td></tr>\n",
              "\t<tr><td>35</td><td>Rodd Pessler          </td><td>53</td><td>Male   </td><td>16:08</td></tr>\n",
              "\t<tr><td>36</td><td>Gertrude Sinclaire    </td><td>21</td><td>Female </td><td>15:15</td></tr>\n",
              "</tbody>\n",
              "</table>\n"
            ],
            "text/markdown": "\nA data.frame: 764 × 5\n\n| runner_bib &lt;int&gt; | runner_name &lt;chr&gt; | runner_age &lt;int&gt; | runner_gender &lt;chr&gt; | finish_time &lt;chr&gt; |\n|---|---|---|---|---|\n|  1 | Loydie Lopes           | 17 | Male    | 16:01 |\n|  2 | Lorens Crispe          | 33 | Male    | 15:40 |\n|  3 | Shirline Hasser        | 22 | Female  | 14:20 |\n|  4 | Alleyn Hartshorn       | 39 | Male    | 17:06 |\n|  5 | Wang MacColl           | 50 | Male    | 16:49 |\n|  6 | Tonnie Tidder          | 44 | Male    | 15:43 |\n|  7 | Hermy Everal           | 51 | Male    | <!----> |\n|  8 | Basil Moxsom           | 44 | Male    | 15:16 |\n|  9 | Lark Bragge            | 30 | Female  | 15:59 |\n| 10 | Kent Wakely            | 60 | Male    | 14:29 |\n| 11 | Judye Hattrick         | 17 | Female  | 15:27 |\n| 12 | Amalea Laurand         | 17 | Agender | 16:46 |\n| 13 | Christiana Winspeare   | 52 | Female  | 16:18 |\n| 14 | Trevar Pegrum          | 31 | Male    | 16:05 |\n| 15 | Kearney Doumerc        | 48 | Male    | 15:11 |\n| 16 | Casey Arthur           | 54 | Female  | 16:41 |\n| 17 | Antony Burnes          | 19 | Male    | 15:58 |\n| 18 | Ike Ranson             | 20 | Agender | 16:45 |\n| 19 | Niels Lynagh           | 25 | Male    | 17:08 |\n| 20 | Stormy Gideon          | 43 | Female  | 16:51 |\n| 21 | Carmencita Petrishchev | 20 | Female  | 14:15 |\n| 22 | Cristina Brabbs        | 60 | Female  | 14:20 |\n| 23 | Cordy Jeannaud         | 27 | Female  | 14:45 |\n| 24 | Rubi Greeson           | 39 | Female  | 14:46 |\n| 25 | Mickie Drohun          | 28 | Female  | 16:20 |\n| 26 | Levon Cayette          | 14 | Male    | 17:07 |\n| 27 | Georges Capoun         | 38 | Male    | 14:47 |\n| 28 | Yance Ingreda          | 39 | Male    | 15:40 |\n| 29 | Elfreda Dunmuir        | 44 | Female  | 15:04 |\n| 30 | Ivar Nutting           | 33 | Male    | 15:00 |\n| ⋮ | ⋮ | ⋮ | ⋮ | ⋮ |\n|  7 | Hermy Everal           | 51 | Male    | <!----> |\n|  8 | Basil Moxsom           | 44 | Male    | 15:16 |\n|  9 | Lark Bragge            | 30 | Female  | 15:59 |\n| 10 | Kent Wakely            | 60 | Male    | 14:29 |\n| 11 | Judye Hattrick         | 17 | Female  | 15:27 |\n| 12 | Amalea Laurand         | 17 | Agender | 16:46 |\n| 13 | Christiana Winspeare   | 52 | Female  | 16:18 |\n| 14 | Trevar Pegrum          | 31 | Male    | 16:05 |\n| 15 | Kearney Doumerc        | 48 | Male    | 15:11 |\n| 16 | Casey Arthur           | 54 | Female  | 16:41 |\n| 17 | Antony Burnes          | 19 | Male    | 15:58 |\n| 18 | Ike Ranson             | 20 | Agender | 16:45 |\n| 19 | Niels Lynagh           | 25 | Male    | 17:08 |\n| 20 | Stormy Gideon          | 43 | Female  | 16:51 |\n| 21 | Carmencita Petrishchev | 20 | Female  | 14:15 |\n| 22 | Cristina Brabbs        | 60 | Female  | 14:20 |\n| 23 | Cordy Jeannaud         | 27 | Female  | 14:45 |\n| 24 | Rubi Greeson           | 39 | Female  | 14:46 |\n| 25 | Mickie Drohun          | 28 | Female  | 16:20 |\n| 26 | Levon Cayette          | 14 | Male    | 17:07 |\n| 27 | Georges Capoun         | 38 | Male    | 14:47 |\n| 28 | Yance Ingreda          | 39 | Male    | 15:40 |\n| 29 | Elfreda Dunmuir        | 44 | Female  | 15:04 |\n| 30 | Ivar Nutting           | 33 | Male    | 15:00 |\n| 31 | Sibley Golton          | 42 | Female  | 14:54 |\n| 32 | Winn Froome            | 48 | Male    | 14:25 |\n| 33 | Gabbie Woollhead       | 35 | Male    | 14:39 |\n| 34 | Essy Icke              | 48 | Female  | 14:53 |\n| 35 | Rodd Pessler           | 53 | Male    | 16:08 |\n| 36 | Gertrude Sinclaire     | 21 | Female  | 15:15 |\n\n",
            "text/latex": "A data.frame: 764 × 5\n\\begin{tabular}{lllll}\n runner\\_bib & runner\\_name & runner\\_age & runner\\_gender & finish\\_time\\\\\n <int> & <chr> & <int> & <chr> & <chr>\\\\\n\\hline\n\t  1 & Loydie Lopes           & 17 & Male    & 16:01\\\\\n\t  2 & Lorens Crispe          & 33 & Male    & 15:40\\\\\n\t  3 & Shirline Hasser        & 22 & Female  & 14:20\\\\\n\t  4 & Alleyn Hartshorn       & 39 & Male    & 17:06\\\\\n\t  5 & Wang MacColl           & 50 & Male    & 16:49\\\\\n\t  6 & Tonnie Tidder          & 44 & Male    & 15:43\\\\\n\t  7 & Hermy Everal           & 51 & Male    &      \\\\\n\t  8 & Basil Moxsom           & 44 & Male    & 15:16\\\\\n\t  9 & Lark Bragge            & 30 & Female  & 15:59\\\\\n\t 10 & Kent Wakely            & 60 & Male    & 14:29\\\\\n\t 11 & Judye Hattrick         & 17 & Female  & 15:27\\\\\n\t 12 & Amalea Laurand         & 17 & Agender & 16:46\\\\\n\t 13 & Christiana Winspeare   & 52 & Female  & 16:18\\\\\n\t 14 & Trevar Pegrum          & 31 & Male    & 16:05\\\\\n\t 15 & Kearney Doumerc        & 48 & Male    & 15:11\\\\\n\t 16 & Casey Arthur           & 54 & Female  & 16:41\\\\\n\t 17 & Antony Burnes          & 19 & Male    & 15:58\\\\\n\t 18 & Ike Ranson             & 20 & Agender & 16:45\\\\\n\t 19 & Niels Lynagh           & 25 & Male    & 17:08\\\\\n\t 20 & Stormy Gideon          & 43 & Female  & 16:51\\\\\n\t 21 & Carmencita Petrishchev & 20 & Female  & 14:15\\\\\n\t 22 & Cristina Brabbs        & 60 & Female  & 14:20\\\\\n\t 23 & Cordy Jeannaud         & 27 & Female  & 14:45\\\\\n\t 24 & Rubi Greeson           & 39 & Female  & 14:46\\\\\n\t 25 & Mickie Drohun          & 28 & Female  & 16:20\\\\\n\t 26 & Levon Cayette          & 14 & Male    & 17:07\\\\\n\t 27 & Georges Capoun         & 38 & Male    & 14:47\\\\\n\t 28 & Yance Ingreda          & 39 & Male    & 15:40\\\\\n\t 29 & Elfreda Dunmuir        & 44 & Female  & 15:04\\\\\n\t 30 & Ivar Nutting           & 33 & Male    & 15:00\\\\\n\t ⋮ & ⋮ & ⋮ & ⋮ & ⋮\\\\\n\t  7 & Hermy Everal           & 51 & Male    &      \\\\\n\t  8 & Basil Moxsom           & 44 & Male    & 15:16\\\\\n\t  9 & Lark Bragge            & 30 & Female  & 15:59\\\\\n\t 10 & Kent Wakely            & 60 & Male    & 14:29\\\\\n\t 11 & Judye Hattrick         & 17 & Female  & 15:27\\\\\n\t 12 & Amalea Laurand         & 17 & Agender & 16:46\\\\\n\t 13 & Christiana Winspeare   & 52 & Female  & 16:18\\\\\n\t 14 & Trevar Pegrum          & 31 & Male    & 16:05\\\\\n\t 15 & Kearney Doumerc        & 48 & Male    & 15:11\\\\\n\t 16 & Casey Arthur           & 54 & Female  & 16:41\\\\\n\t 17 & Antony Burnes          & 19 & Male    & 15:58\\\\\n\t 18 & Ike Ranson             & 20 & Agender & 16:45\\\\\n\t 19 & Niels Lynagh           & 25 & Male    & 17:08\\\\\n\t 20 & Stormy Gideon          & 43 & Female  & 16:51\\\\\n\t 21 & Carmencita Petrishchev & 20 & Female  & 14:15\\\\\n\t 22 & Cristina Brabbs        & 60 & Female  & 14:20\\\\\n\t 23 & Cordy Jeannaud         & 27 & Female  & 14:45\\\\\n\t 24 & Rubi Greeson           & 39 & Female  & 14:46\\\\\n\t 25 & Mickie Drohun          & 28 & Female  & 16:20\\\\\n\t 26 & Levon Cayette          & 14 & Male    & 17:07\\\\\n\t 27 & Georges Capoun         & 38 & Male    & 14:47\\\\\n\t 28 & Yance Ingreda          & 39 & Male    & 15:40\\\\\n\t 29 & Elfreda Dunmuir        & 44 & Female  & 15:04\\\\\n\t 30 & Ivar Nutting           & 33 & Male    & 15:00\\\\\n\t 31 & Sibley Golton          & 42 & Female  & 14:54\\\\\n\t 32 & Winn Froome            & 48 & Male    & 14:25\\\\\n\t 33 & Gabbie Woollhead       & 35 & Male    & 14:39\\\\\n\t 34 & Essy Icke              & 48 & Female  & 14:53\\\\\n\t 35 & Rodd Pessler           & 53 & Male    & 16:08\\\\\n\t 36 & Gertrude Sinclaire     & 21 & Female  & 15:15\\\\\n\\end{tabular}\n",
            "text/plain": [
              "    runner_bib runner_name            runner_age runner_gender finish_time\n",
              "1    1         Loydie Lopes           17         Male          16:01      \n",
              "2    2         Lorens Crispe          33         Male          15:40      \n",
              "3    3         Shirline Hasser        22         Female        14:20      \n",
              "4    4         Alleyn Hartshorn       39         Male          17:06      \n",
              "5    5         Wang MacColl           50         Male          16:49      \n",
              "6    6         Tonnie Tidder          44         Male          15:43      \n",
              "7    7         Hermy Everal           51         Male                     \n",
              "8    8         Basil Moxsom           44         Male          15:16      \n",
              "9    9         Lark Bragge            30         Female        15:59      \n",
              "10  10         Kent Wakely            60         Male          14:29      \n",
              "11  11         Judye Hattrick         17         Female        15:27      \n",
              "12  12         Amalea Laurand         17         Agender       16:46      \n",
              "13  13         Christiana Winspeare   52         Female        16:18      \n",
              "14  14         Trevar Pegrum          31         Male          16:05      \n",
              "15  15         Kearney Doumerc        48         Male          15:11      \n",
              "16  16         Casey Arthur           54         Female        16:41      \n",
              "17  17         Antony Burnes          19         Male          15:58      \n",
              "18  18         Ike Ranson             20         Agender       16:45      \n",
              "19  19         Niels Lynagh           25         Male          17:08      \n",
              "20  20         Stormy Gideon          43         Female        16:51      \n",
              "21  21         Carmencita Petrishchev 20         Female        14:15      \n",
              "22  22         Cristina Brabbs        60         Female        14:20      \n",
              "23  23         Cordy Jeannaud         27         Female        14:45      \n",
              "24  24         Rubi Greeson           39         Female        14:46      \n",
              "25  25         Mickie Drohun          28         Female        16:20      \n",
              "26  26         Levon Cayette          14         Male          17:07      \n",
              "27  27         Georges Capoun         38         Male          14:47      \n",
              "28  28         Yance Ingreda          39         Male          15:40      \n",
              "29  29         Elfreda Dunmuir        44         Female        15:04      \n",
              "30  30         Ivar Nutting           33         Male          15:00      \n",
              "⋮   ⋮          ⋮                      ⋮          ⋮             ⋮          \n",
              "735  7         Hermy Everal           51         Male                     \n",
              "736  8         Basil Moxsom           44         Male          15:16      \n",
              "737  9         Lark Bragge            30         Female        15:59      \n",
              "738 10         Kent Wakely            60         Male          14:29      \n",
              "739 11         Judye Hattrick         17         Female        15:27      \n",
              "740 12         Amalea Laurand         17         Agender       16:46      \n",
              "741 13         Christiana Winspeare   52         Female        16:18      \n",
              "742 14         Trevar Pegrum          31         Male          16:05      \n",
              "743 15         Kearney Doumerc        48         Male          15:11      \n",
              "744 16         Casey Arthur           54         Female        16:41      \n",
              "745 17         Antony Burnes          19         Male          15:58      \n",
              "746 18         Ike Ranson             20         Agender       16:45      \n",
              "747 19         Niels Lynagh           25         Male          17:08      \n",
              "748 20         Stormy Gideon          43         Female        16:51      \n",
              "749 21         Carmencita Petrishchev 20         Female        14:15      \n",
              "750 22         Cristina Brabbs        60         Female        14:20      \n",
              "751 23         Cordy Jeannaud         27         Female        14:45      \n",
              "752 24         Rubi Greeson           39         Female        14:46      \n",
              "753 25         Mickie Drohun          28         Female        16:20      \n",
              "754 26         Levon Cayette          14         Male          17:07      \n",
              "755 27         Georges Capoun         38         Male          14:47      \n",
              "756 28         Yance Ingreda          39         Male          15:40      \n",
              "757 29         Elfreda Dunmuir        44         Female        15:04      \n",
              "758 30         Ivar Nutting           33         Male          15:00      \n",
              "759 31         Sibley Golton          42         Female        14:54      \n",
              "760 32         Winn Froome            48         Male          14:25      \n",
              "761 33         Gabbie Woollhead       35         Male          14:39      \n",
              "762 34         Essy Icke              48         Female        14:53      \n",
              "763 35         Rodd Pessler           53         Male          16:08      \n",
              "764 36         Gertrude Sinclaire     21         Female        15:15      "
            ]
          },
          "metadata": {}
        }
      ]
    },
    {
      "cell_type": "code",
      "source": [
        "dim(rrdata)"
      ],
      "metadata": {
        "id": "bgHSPDO_QTpx",
        "outputId": "71e0cc4c-4abf-4568-dd97-c6d860cc3cce",
        "colab": {
          "base_uri": "https://localhost:8080/",
          "height": 34
        }
      },
      "execution_count": 7,
      "outputs": [
        {
          "output_type": "display_data",
          "data": {
            "text/html": [
              "<style>\n",
              ".list-inline {list-style: none; margin:0; padding: 0}\n",
              ".list-inline>li {display: inline-block}\n",
              ".list-inline>li:not(:last-child)::after {content: \"\\00b7\"; padding: 0 .5ex}\n",
              "</style>\n",
              "<ol class=list-inline><li>764</li><li>5</li></ol>\n"
            ],
            "text/markdown": "1. 764\n2. 5\n\n\n",
            "text/latex": "\\begin{enumerate*}\n\\item 764\n\\item 5\n\\end{enumerate*}\n",
            "text/plain": [
              "[1] 764   5"
            ]
          },
          "metadata": {}
        }
      ]
    },
    {
      "cell_type": "code",
      "source": [
        "\n",
        "duplicates <- rrdata[duplicated(rrdata), ]\n",
        "if (nrow(duplicates) > 0) {\n",
        "  rrdati <- rrdata[!duplicated(rrdata), ]\n",
        "  cat(\"Duplicate rows removed.\\n\")\n",
        "} else {\n",
        "  cat(\"No duplicate rows found.\\n\")\n",
        "}\n",
        "\n"
      ],
      "metadata": {
        "id": "aye5yrFmOQO8",
        "outputId": "e0be9ac8-b310-4461-d138-7fc04d1ad871",
        "colab": {
          "base_uri": "https://localhost:8080/"
        }
      },
      "execution_count": 8,
      "outputs": [
        {
          "output_type": "stream",
          "name": "stdout",
          "text": [
            "Duplicate rows removed.\n"
          ]
        }
      ]
    },
    {
      "cell_type": "code",
      "source": [
        "rrdati <- read.csv(\"https://raw.githubusercontent.com/nmagee/ds1002/main/data/road-race.csv\")\n",
        "\n",
        "rrdati <- rrdati[!is.na(rrdati$finish_time) & rrdati$finish_time != \"\", , drop = FALSE]\n",
        "\n",
        "cat(\"Rows with missing finish times (DNF) removed.\\n\")\n"
      ],
      "metadata": {
        "id": "naJ2Vpf8Pnra",
        "outputId": "a28de57f-f863-4370-8177-4c51bc3320da",
        "colab": {
          "base_uri": "https://localhost:8080/"
        }
      },
      "execution_count": 9,
      "outputs": [
        {
          "output_type": "stream",
          "name": "stdout",
          "text": [
            "Rows with missing finish times (DNF) removed.\n"
          ]
        }
      ]
    },
    {
      "cell_type": "code",
      "source": [
        "\n",
        "cat(\"Updated dimensions of the data frame:\\n\")\n",
        "dim(rrdati)"
      ],
      "metadata": {
        "id": "dDaqQf5aDxHH",
        "outputId": "b8daa812-3b47-49a7-cb54-8c645255d66b",
        "colab": {
          "base_uri": "https://localhost:8080/",
          "height": 51
        }
      },
      "execution_count": 10,
      "outputs": [
        {
          "output_type": "stream",
          "name": "stdout",
          "text": [
            "Updated dimensions of the data frame:\n"
          ]
        },
        {
          "output_type": "display_data",
          "data": {
            "text/html": [
              "<style>\n",
              ".list-inline {list-style: none; margin:0; padding: 0}\n",
              ".list-inline>li {display: inline-block}\n",
              ".list-inline>li:not(:last-child)::after {content: \"\\00b7\"; padding: 0 .5ex}\n",
              "</style>\n",
              "<ol class=list-inline><li>714</li><li>5</li></ol>\n"
            ],
            "text/markdown": "1. 714\n2. 5\n\n\n",
            "text/latex": "\\begin{enumerate*}\n\\item 714\n\\item 5\n\\end{enumerate*}\n",
            "text/plain": [
              "[1] 714   5"
            ]
          },
          "metadata": {}
        }
      ]
    },
    {
      "cell_type": "markdown",
      "source": [
        "Now display the first 10 rows of the cleaned dataset."
      ],
      "metadata": {
        "id": "Ccwu8bUx_Azj"
      }
    },
    {
      "cell_type": "code",
      "source": [
        "head(rrdati, 10)\n"
      ],
      "metadata": {
        "id": "1iVIskCs_Ewe",
        "outputId": "16733b09-2f2d-4229-c676-c785894c0f4b",
        "colab": {
          "base_uri": "https://localhost:8080/",
          "height": 407
        }
      },
      "execution_count": 11,
      "outputs": [
        {
          "output_type": "display_data",
          "data": {
            "text/html": [
              "<table class=\"dataframe\">\n",
              "<caption>A data.frame: 10 × 5</caption>\n",
              "<thead>\n",
              "\t<tr><th></th><th scope=col>runner_bib</th><th scope=col>runner_name</th><th scope=col>runner_age</th><th scope=col>runner_gender</th><th scope=col>finish_time</th></tr>\n",
              "\t<tr><th></th><th scope=col>&lt;int&gt;</th><th scope=col>&lt;chr&gt;</th><th scope=col>&lt;int&gt;</th><th scope=col>&lt;chr&gt;</th><th scope=col>&lt;chr&gt;</th></tr>\n",
              "</thead>\n",
              "<tbody>\n",
              "\t<tr><th scope=row>1</th><td> 1</td><td>Loydie Lopes    </td><td>17</td><td>Male  </td><td>16:01</td></tr>\n",
              "\t<tr><th scope=row>2</th><td> 2</td><td>Lorens Crispe   </td><td>33</td><td>Male  </td><td>15:40</td></tr>\n",
              "\t<tr><th scope=row>3</th><td> 3</td><td>Shirline Hasser </td><td>22</td><td>Female</td><td>14:20</td></tr>\n",
              "\t<tr><th scope=row>4</th><td> 4</td><td>Alleyn Hartshorn</td><td>39</td><td>Male  </td><td>17:06</td></tr>\n",
              "\t<tr><th scope=row>5</th><td> 5</td><td>Wang MacColl    </td><td>50</td><td>Male  </td><td>16:49</td></tr>\n",
              "\t<tr><th scope=row>6</th><td> 6</td><td>Tonnie Tidder   </td><td>44</td><td>Male  </td><td>15:43</td></tr>\n",
              "\t<tr><th scope=row>8</th><td> 8</td><td>Basil Moxsom    </td><td>44</td><td>Male  </td><td>15:16</td></tr>\n",
              "\t<tr><th scope=row>9</th><td> 9</td><td>Lark Bragge     </td><td>30</td><td>Female</td><td>15:59</td></tr>\n",
              "\t<tr><th scope=row>10</th><td>10</td><td>Kent Wakely     </td><td>60</td><td>Male  </td><td>14:29</td></tr>\n",
              "\t<tr><th scope=row>11</th><td>11</td><td>Judye Hattrick  </td><td>17</td><td>Female</td><td>15:27</td></tr>\n",
              "</tbody>\n",
              "</table>\n"
            ],
            "text/markdown": "\nA data.frame: 10 × 5\n\n| <!--/--> | runner_bib &lt;int&gt; | runner_name &lt;chr&gt; | runner_age &lt;int&gt; | runner_gender &lt;chr&gt; | finish_time &lt;chr&gt; |\n|---|---|---|---|---|---|\n| 1 |  1 | Loydie Lopes     | 17 | Male   | 16:01 |\n| 2 |  2 | Lorens Crispe    | 33 | Male   | 15:40 |\n| 3 |  3 | Shirline Hasser  | 22 | Female | 14:20 |\n| 4 |  4 | Alleyn Hartshorn | 39 | Male   | 17:06 |\n| 5 |  5 | Wang MacColl     | 50 | Male   | 16:49 |\n| 6 |  6 | Tonnie Tidder    | 44 | Male   | 15:43 |\n| 8 |  8 | Basil Moxsom     | 44 | Male   | 15:16 |\n| 9 |  9 | Lark Bragge      | 30 | Female | 15:59 |\n| 10 | 10 | Kent Wakely      | 60 | Male   | 14:29 |\n| 11 | 11 | Judye Hattrick   | 17 | Female | 15:27 |\n\n",
            "text/latex": "A data.frame: 10 × 5\n\\begin{tabular}{r|lllll}\n  & runner\\_bib & runner\\_name & runner\\_age & runner\\_gender & finish\\_time\\\\\n  & <int> & <chr> & <int> & <chr> & <chr>\\\\\n\\hline\n\t1 &  1 & Loydie Lopes     & 17 & Male   & 16:01\\\\\n\t2 &  2 & Lorens Crispe    & 33 & Male   & 15:40\\\\\n\t3 &  3 & Shirline Hasser  & 22 & Female & 14:20\\\\\n\t4 &  4 & Alleyn Hartshorn & 39 & Male   & 17:06\\\\\n\t5 &  5 & Wang MacColl     & 50 & Male   & 16:49\\\\\n\t6 &  6 & Tonnie Tidder    & 44 & Male   & 15:43\\\\\n\t8 &  8 & Basil Moxsom     & 44 & Male   & 15:16\\\\\n\t9 &  9 & Lark Bragge      & 30 & Female & 15:59\\\\\n\t10 & 10 & Kent Wakely      & 60 & Male   & 14:29\\\\\n\t11 & 11 & Judye Hattrick   & 17 & Female & 15:27\\\\\n\\end{tabular}\n",
            "text/plain": [
              "   runner_bib runner_name      runner_age runner_gender finish_time\n",
              "1   1         Loydie Lopes     17         Male          16:01      \n",
              "2   2         Lorens Crispe    33         Male          15:40      \n",
              "3   3         Shirline Hasser  22         Female        14:20      \n",
              "4   4         Alleyn Hartshorn 39         Male          17:06      \n",
              "5   5         Wang MacColl     50         Male          16:49      \n",
              "6   6         Tonnie Tidder    44         Male          15:43      \n",
              "8   8         Basil Moxsom     44         Male          15:16      \n",
              "9   9         Lark Bragge      30         Female        15:59      \n",
              "10 10         Kent Wakely      60         Male          14:29      \n",
              "11 11         Judye Hattrick   17         Female        15:27      "
            ]
          },
          "metadata": {}
        }
      ]
    },
    {
      "cell_type": "markdown",
      "source": [
        "## 4. Calculate Elapsed Time (3 pts)"
      ],
      "metadata": {
        "id": "3-4dd8nsr_zF"
      }
    },
    {
      "cell_type": "markdown",
      "source": [
        "Using R, add a new column named `[\"finish_minutes\"]` to the dataframe that calculates the number of minutes it took for the runner to complete the race. Ideally this is a column consisting of plain integers.\n",
        "\n",
        "The starting gun was fired at precisely 12:00pm that day.\n",
        "\n",
        "Note: This is calculated using a built-in function of R, `difftime()` which takes 3 parameters:\n",
        "\n",
        "- End time\n",
        "- Start time\n",
        "- Units\n",
        "\n",
        "The result is an output that figures the difference between the two: `3 days`, `14 years`, `112 mins`, etc.\n",
        "\n",
        "The syntax for that function is below. Take care to use the proper order of parameters. The `as.POSIXct` casting makes it possible to read a long datetime in the `YYYY-MM-DDTHH:MM` format, a common `datetime` value. The `format` parameter specifies the pattern you are trying to read.\n",
        "\n",
        "```\n",
        "df$new-column <- (difftime( as.POSIXct(df$end-column, format=\"%Y-%m-%dT%H:%M\"),\n",
        "                            as.POSIXct(df$start-column, format=\"%Y-%m-%dT%H:%M\"),\n",
        "                            units=\"min\"))\n",
        "```"
      ],
      "metadata": {
        "id": "HrGLlM83vH0c"
      }
    },
    {
      "cell_type": "code",
      "source": [
        "rrdati$finish_minutes <- difftime(\n",
        "  as.POSIXct(rrdati$finish_time, format=\"%Y-%m-%dT%H:%M\"),\n",
        "  as.POSIXct(\"2023-01-01T12:00\", format=\"%Y-%m-%dT%H:%M\"),\n",
        "  units=\"mins\"\n",
        ")"
      ],
      "metadata": {
        "id": "5HKqg1bfAXbl"
      },
      "execution_count": 15,
      "outputs": []
    },
    {
      "cell_type": "code",
      "source": [
        "rrdati$finish_minutes <- (difftime( as.POSIXct(rrdati$end-column, format=\"%Y-%m-%dT%H:%M\"),\n",
        "  as.POSIXct(rrdati$start-column, format=\"%Y-%m-%dT%H:%M\"),\n",
        "  units=\"min\"))"
      ],
      "metadata": {
        "id": "PbsaEkgNG6NP",
        "outputId": "10f7bbb4-05a9-4616-c414-f1bb8b820e41",
        "colab": {
          "base_uri": "https://localhost:8080/",
          "height": 208
        }
      },
      "execution_count": 17,
      "outputs": [
        {
          "output_type": "error",
          "ename": "ERROR",
          "evalue": "ignored",
          "traceback": [
            "Error in eval(expr, envir, enclos): object 'column' not found\nTraceback:\n",
            "1. difftime(as.POSIXct(rrdati$end - column, format = \"%Y-%m-%dT%H:%M\"), \n .     as.POSIXct(rrdati$start - column, format = \"%Y-%m-%dT%H:%M\"), \n .     units = \"min\")",
            "2. as.POSIXct(time1)",
            "3. as.POSIXct(rrdati$end - column, format = \"%Y-%m-%dT%H:%M\")"
          ]
        }
      ]
    },
    {
      "cell_type": "code",
      "source": [
        "head(rrdati)"
      ],
      "metadata": {
        "id": "n9VwCKZ9GnO5",
        "outputId": "bd731cfa-1436-483c-c163-fc9e045fab9c",
        "colab": {
          "base_uri": "https://localhost:8080/",
          "height": 283
        }
      },
      "execution_count": 16,
      "outputs": [
        {
          "output_type": "display_data",
          "data": {
            "text/html": [
              "<table class=\"dataframe\">\n",
              "<caption>A data.frame: 6 × 6</caption>\n",
              "<thead>\n",
              "\t<tr><th></th><th scope=col>runner_bib</th><th scope=col>runner_name</th><th scope=col>runner_age</th><th scope=col>runner_gender</th><th scope=col>finish_time</th><th scope=col>finish_minutes</th></tr>\n",
              "\t<tr><th></th><th scope=col>&lt;int&gt;</th><th scope=col>&lt;chr&gt;</th><th scope=col>&lt;int&gt;</th><th scope=col>&lt;chr&gt;</th><th scope=col>&lt;chr&gt;</th><th scope=col>&lt;drtn&gt;</th></tr>\n",
              "</thead>\n",
              "<tbody>\n",
              "\t<tr><th scope=row>1</th><td>1</td><td>Loydie Lopes    </td><td>17</td><td>Male  </td><td>16:01</td><td>NA mins</td></tr>\n",
              "\t<tr><th scope=row>2</th><td>2</td><td>Lorens Crispe   </td><td>33</td><td>Male  </td><td>15:40</td><td>NA mins</td></tr>\n",
              "\t<tr><th scope=row>3</th><td>3</td><td>Shirline Hasser </td><td>22</td><td>Female</td><td>14:20</td><td>NA mins</td></tr>\n",
              "\t<tr><th scope=row>4</th><td>4</td><td>Alleyn Hartshorn</td><td>39</td><td>Male  </td><td>17:06</td><td>NA mins</td></tr>\n",
              "\t<tr><th scope=row>5</th><td>5</td><td>Wang MacColl    </td><td>50</td><td>Male  </td><td>16:49</td><td>NA mins</td></tr>\n",
              "\t<tr><th scope=row>6</th><td>6</td><td>Tonnie Tidder   </td><td>44</td><td>Male  </td><td>15:43</td><td>NA mins</td></tr>\n",
              "</tbody>\n",
              "</table>\n"
            ],
            "text/markdown": "\nA data.frame: 6 × 6\n\n| <!--/--> | runner_bib &lt;int&gt; | runner_name &lt;chr&gt; | runner_age &lt;int&gt; | runner_gender &lt;chr&gt; | finish_time &lt;chr&gt; | finish_minutes &lt;drtn&gt; |\n|---|---|---|---|---|---|---|\n| 1 | 1 | Loydie Lopes     | 17 | Male   | 16:01 | NA mins |\n| 2 | 2 | Lorens Crispe    | 33 | Male   | 15:40 | NA mins |\n| 3 | 3 | Shirline Hasser  | 22 | Female | 14:20 | NA mins |\n| 4 | 4 | Alleyn Hartshorn | 39 | Male   | 17:06 | NA mins |\n| 5 | 5 | Wang MacColl     | 50 | Male   | 16:49 | NA mins |\n| 6 | 6 | Tonnie Tidder    | 44 | Male   | 15:43 | NA mins |\n\n",
            "text/latex": "A data.frame: 6 × 6\n\\begin{tabular}{r|llllll}\n  & runner\\_bib & runner\\_name & runner\\_age & runner\\_gender & finish\\_time & finish\\_minutes\\\\\n  & <int> & <chr> & <int> & <chr> & <chr> & <drtn>\\\\\n\\hline\n\t1 & 1 & Loydie Lopes     & 17 & Male   & 16:01 & NA mins\\\\\n\t2 & 2 & Lorens Crispe    & 33 & Male   & 15:40 & NA mins\\\\\n\t3 & 3 & Shirline Hasser  & 22 & Female & 14:20 & NA mins\\\\\n\t4 & 4 & Alleyn Hartshorn & 39 & Male   & 17:06 & NA mins\\\\\n\t5 & 5 & Wang MacColl     & 50 & Male   & 16:49 & NA mins\\\\\n\t6 & 6 & Tonnie Tidder    & 44 & Male   & 15:43 & NA mins\\\\\n\\end{tabular}\n",
            "text/plain": [
              "  runner_bib runner_name      runner_age runner_gender finish_time\n",
              "1 1          Loydie Lopes     17         Male          16:01      \n",
              "2 2          Lorens Crispe    33         Male          15:40      \n",
              "3 3          Shirline Hasser  22         Female        14:20      \n",
              "4 4          Alleyn Hartshorn 39         Male          17:06      \n",
              "5 5          Wang MacColl     50         Male          16:49      \n",
              "6 6          Tonnie Tidder    44         Male          15:43      \n",
              "  finish_minutes\n",
              "1 NA mins       \n",
              "2 NA mins       \n",
              "3 NA mins       \n",
              "4 NA mins       \n",
              "5 NA mins       \n",
              "6 NA mins       "
            ]
          },
          "metadata": {}
        }
      ]
    },
    {
      "cell_type": "markdown",
      "source": [
        "## 5. Identify Winners by Gender (2 pts)"
      ],
      "metadata": {
        "id": "KKg8d9RDyeDa"
      }
    },
    {
      "cell_type": "markdown",
      "source": [
        "Based on the minutes it took each runner to complete the race, identify the top three places for each gender.\n",
        "\n",
        "There are several ways to do this, some of which require less code than others. You will only be graded for producing the correct output, not on how elegant/advanced your programming is."
      ],
      "metadata": {
        "id": "5kKBo3_sykGD"
      }
    },
    {
      "cell_type": "code",
      "source": [
        "#\n"
      ],
      "metadata": {
        "id": "xRlliRMY2_-c"
      },
      "execution_count": null,
      "outputs": []
    },
    {
      "cell_type": "markdown",
      "source": [
        "## 6. Plot the Data (3 pts)"
      ],
      "metadata": {
        "id": "2B9dxJbno0s0"
      }
    },
    {
      "cell_type": "markdown",
      "source": [
        "Finally, using `ggplot2` create two plots of the data -- density plots of race finishers.\n",
        "\n",
        "- In the first plot use `finish_minutes` as the x axis.\n",
        "- In the second plot use `runner_age` as the x axis.\n",
        "- Use `runner_gender` as the fill.\n",
        "- We suggest using a `geom_density(alpha=0.2)` or therabouts to see layers through one another.\n",
        "- Use the `gridExtra` library's `grid.arrange()` method to plot them both.\n",
        "\n",
        "You will note that since this is artificial data you will be able to see the gender layers clearly enough but they will not be statistically meaningful."
      ],
      "metadata": {
        "id": "LwMrL6-AplCH"
      }
    },
    {
      "cell_type": "code",
      "source": [
        "#\n"
      ],
      "metadata": {
        "id": "9vDIw9YeERNx"
      },
      "execution_count": null,
      "outputs": []
    }
  ]
}