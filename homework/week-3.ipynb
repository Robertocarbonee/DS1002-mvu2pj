{
  "nbformat": 4,
  "nbformat_minor": 0,
  "metadata": {
    "colab": {
      "provenance": [],
      "include_colab_link": true
    },
    "kernelspec": {
      "name": "python3",
      "display_name": "Python 3"
    },
    "language_info": {
      "name": "python"
    }
  },
  "cells": [
    {
      "cell_type": "markdown",
      "metadata": {
        "id": "view-in-github",
        "colab_type": "text"
      },
      "source": [
        "<a href=\"https://colab.research.google.com/github/Robertocarbonee/DS1002-mvu2pj/blob/main/homework/week-3.ipynb\" target=\"_parent\"><img src=\"https://colab.research.google.com/assets/colab-badge.svg\" alt=\"Open In Colab\"/></a>"
      ]
    },
    {
      "cell_type": "markdown",
      "source": [
        "# Homework - Week 3\n",
        "\n",
        "Complete the following blocks as specified in the directions. Run each cell to return the desired output. Save your notebook back to your GitHub repository and submit the GitHub URL for your notebook for grading."
      ],
      "metadata": {
        "id": "xJ6ZWHKXW4qY"
      }
    },
    {
      "cell_type": "markdown",
      "source": [
        "## 1. Variables\n",
        "\n",
        "Declare and populate three variables below. Be sure your code outputs each variable:\n",
        "\n",
        "1. Containing a string\n",
        "2. Containing a boolean\n",
        "3. Containing an integer"
      ],
      "metadata": {
        "id": "j0mCENI3XK2i"
      }
    },
    {
      "cell_type": "code",
      "execution_count": 1,
      "metadata": {
        "id": "mdX0VBQgW1-9",
        "outputId": "dda5de45-41f5-4cc7-ff21-3a0a8d9b4ce4",
        "colab": {
          "base_uri": "https://localhost:8080/"
        }
      },
      "outputs": [
        {
          "output_type": "stream",
          "name": "stdout",
          "text": [
            "Roberto\n",
            "True\n",
            "7\n"
          ]
        }
      ],
      "source": [
        "# Put answers below\n",
        "string = 'Roberto'\n",
        "boolean = True\n",
        "integer = 7\n",
        "print(string)\n",
        "print(boolean)\n",
        "print(integer)"
      ]
    },
    {
      "cell_type": "markdown",
      "source": [
        "## 2. String Manipulation\n",
        "\n",
        "Take the following string and, using python commands, show how to fulfill the requested task. Be sure your code outputs the requested data.\n",
        "\n",
        "String: \"Go Hoos, Beat JMU!\"\n",
        "\n",
        "1. Write a command that extracts the first 8 characters of the string.\n",
        "2. Write a command that extracts the last 4 characters of the string."
      ],
      "metadata": {
        "id": "atxtPF2-XXiW"
      }
    },
    {
      "cell_type": "code",
      "source": [
        "# Put answers below\n",
        "string = \"Go Hoos, Beat JMU!\"\n",
        "string[:8]"
      ],
      "metadata": {
        "id": "2szfLXZcYC_7",
        "outputId": "492f2d0c-3608-4dce-9e6f-9a2c2f00b499",
        "colab": {
          "base_uri": "https://localhost:8080/",
          "height": 35
        }
      },
      "execution_count": 5,
      "outputs": [
        {
          "output_type": "execute_result",
          "data": {
            "text/plain": [
              "'Go Hoos,'"
            ],
            "application/vnd.google.colaboratory.intrinsic+json": {
              "type": "string"
            }
          },
          "metadata": {},
          "execution_count": 5
        }
      ]
    },
    {
      "cell_type": "code",
      "source": [
        "string = \"Go Hoos, Beat JMU!\"\n",
        "string[-4:]"
      ],
      "metadata": {
        "id": "9yPyCUm-luYq",
        "outputId": "3d26f64e-781c-46b4-c02d-fbdbc86d2991",
        "colab": {
          "base_uri": "https://localhost:8080/",
          "height": 35
        }
      },
      "execution_count": 7,
      "outputs": [
        {
          "output_type": "execute_result",
          "data": {
            "text/plain": [
              "'JMU!'"
            ],
            "application/vnd.google.colaboratory.intrinsic+json": {
              "type": "string"
            }
          },
          "metadata": {},
          "execution_count": 7
        }
      ]
    },
    {
      "cell_type": "markdown",
      "source": [
        "# 3. Concatenation\n",
        "\n",
        "1. Declare any two string variables and concatenate them.\n",
        "2. Declare a string parameter and concatenate another hard-coded phrase with it."
      ],
      "metadata": {
        "id": "GeXcT_9sYEdx"
      }
    },
    {
      "cell_type": "code",
      "source": [
        "# Put answers below\n",
        "string1= 'My frist name is Roberto'\n",
        "string2= 'and my last name is Carbone'\n",
        "string1 + string2"
      ],
      "metadata": {
        "id": "v3fvvKP4ZUvJ",
        "outputId": "8f0d0c7f-4fa5-479c-9d37-f8d0d7040362",
        "colab": {
          "base_uri": "https://localhost:8080/",
          "height": 35
        }
      },
      "execution_count": 16,
      "outputs": [
        {
          "output_type": "execute_result",
          "data": {
            "text/plain": [
              "'My frist name is Robertoand my last name is Carbone'"
            ],
            "application/vnd.google.colaboratory.intrinsic+json": {
              "type": "string"
            }
          },
          "metadata": {},
          "execution_count": 16
        }
      ]
    },
    {
      "cell_type": "code",
      "source": [
        "start_phrase = 'Good afternoon,'\n",
        "complete_start = start_phrase + 'I am Roberto Carbone' # I am not adding the space because I don't know if adding the space is still considered concatenating!\n",
        "print(complete_start)"
      ],
      "metadata": {
        "id": "rTJegQCXv6zq",
        "outputId": "3aef61b4-c164-40e6-8d52-7d2f6917c863",
        "colab": {
          "base_uri": "https://localhost:8080/"
        }
      },
      "execution_count": 17,
      "outputs": [
        {
          "output_type": "stream",
          "name": "stdout",
          "text": [
            "Good afternoon,I am Roberto Carbone\n"
          ]
        }
      ]
    },
    {
      "cell_type": "markdown",
      "source": [
        "# 4. Math Operations\n",
        "\n",
        "Using the following numeric variables, write Python code that fulfills the requested operations. Be sure your code outputs the correct results.\n",
        "\n",
        "```python\n",
        "var1 = 9\n",
        "var2 = 12\n",
        "var3 = 48\n",
        "var4 = 4\n",
        "```\n",
        "\n",
        "1. Divide var3 by var2\n",
        "2. Multiply var1 by var4\n",
        "3. Write a Python expression that gives a result of `16`."
      ],
      "metadata": {
        "id": "DkVtHJBoYW34"
      }
    },
    {
      "cell_type": "code",
      "source": [
        "# Put answers below\n",
        "var1 = 9\n",
        "var2 = 12\n",
        "var3 = 48\n",
        "var4 = 4\n",
        "\n",
        "division32= var3 // var2\n",
        "print(division32)"
      ],
      "metadata": {
        "id": "db5UdbrVZSiJ",
        "outputId": "f1b19a16-a615-4f6d-d90d-873266f71a4e",
        "colab": {
          "base_uri": "https://localhost:8080/"
        }
      },
      "execution_count": 18,
      "outputs": [
        {
          "output_type": "stream",
          "name": "stdout",
          "text": [
            "4\n"
          ]
        }
      ]
    },
    {
      "cell_type": "code",
      "source": [
        "var1 = 9\n",
        "var2 = 12\n",
        "var3 = 48\n",
        "var4 = 4\n",
        "var1*var4\n",
        "multiplication14= var1 * var4\n",
        "print(multiplication14)"
      ],
      "metadata": {
        "id": "7uO0lUz0xZ0G",
        "outputId": "77288de1-c18a-4c8a-96c6-78ddc7fc6b92",
        "colab": {
          "base_uri": "https://localhost:8080/"
        }
      },
      "execution_count": 24,
      "outputs": [
        {
          "output_type": "stream",
          "name": "stdout",
          "text": [
            "36\n"
          ]
        }
      ]
    },
    {
      "cell_type": "code",
      "source": [
        "var1 = 9\n",
        "var2 = 12\n",
        "var3 = 48\n",
        "var4 = 4\n",
        "\n",
        "addition= var2 + var4\n",
        "print(addition)"
      ],
      "metadata": {
        "id": "QcQ-nP1oxp-a",
        "outputId": "3b7fedd5-012e-4887-b145-d666dead267c",
        "colab": {
          "base_uri": "https://localhost:8080/"
        }
      },
      "execution_count": 20,
      "outputs": [
        {
          "output_type": "stream",
          "name": "stdout",
          "text": [
            "16\n"
          ]
        }
      ]
    }
  ]
}