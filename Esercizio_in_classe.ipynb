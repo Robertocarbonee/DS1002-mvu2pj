{
  "nbformat": 4,
  "nbformat_minor": 0,
  "metadata": {
    "colab": {
      "provenance": [],
      "authorship_tag": "ABX9TyOQgYT+WazVWvZBGZj3S1Vn",
      "include_colab_link": true
    },
    "kernelspec": {
      "name": "python3",
      "display_name": "Python 3"
    },
    "language_info": {
      "name": "python"
    }
  },
  "cells": [
    {
      "cell_type": "markdown",
      "metadata": {
        "id": "view-in-github",
        "colab_type": "text"
      },
      "source": [
        "<a href=\"https://colab.research.google.com/github/Robertocarbonee/DS1002-mvu2pj/blob/main/Esercizio_in_classe.ipynb\" target=\"_parent\"><img src=\"https://colab.research.google.com/assets/colab-badge.svg\" alt=\"Open In Colab\"/></a>"
      ]
    },
    {
      "cell_type": "code",
      "execution_count": 3,
      "metadata": {
        "colab": {
          "base_uri": "https://localhost:8080/"
        },
        "id": "u0ti-6CLVzcl",
        "outputId": "cddabc06-353b-492f-83ab-6b6aea3479a6"
      },
      "outputs": [
        {
          "output_type": "stream",
          "name": "stdout",
          "text": [
            "12\n",
            "354\n",
            "56\n",
            "32\n",
            "66\n",
            "7\n",
            "32\n",
            "11\n",
            "5657\n",
            "75\n",
            "898\n"
          ]
        }
      ],
      "source": [
        "mylist=[12,354,56,32,66,7,32,11,5657,75,898]\n",
        "\n",
        "for thing in mylist:\n",
        "  print(thing)"
      ]
    },
    {
      "cell_type": "code",
      "source": [
        "newlist=['bagels','cereal','coffee','eggs','pancakes','waffles','syrup']\n",
        "for food in newlist:\n",
        "  print(food)"
      ],
      "metadata": {
        "colab": {
          "base_uri": "https://localhost:8080/"
        },
        "id": "UjBG6xMIWdEO",
        "outputId": "012ab696-392a-4d72-94d4-b67d97618bf2"
      },
      "execution_count": 6,
      "outputs": [
        {
          "output_type": "stream",
          "name": "stdout",
          "text": [
            "bagels\n",
            "cereal\n",
            "coffee\n",
            "eggs\n",
            "pancakes\n",
            "waffles\n",
            "syrup\n"
          ]
        }
      ]
    },
    {
      "cell_type": "code",
      "source": [
        "newlist=['bagels','cereal','coffee','eggs','pancakes','waffles','syrup']\n",
        "for food in newlist:\n",
        "  if food == 'eggs':\n",
        "    print('yooo I got some eggs')\n",
        "  else:\n",
        "      print(food)"
      ],
      "metadata": {
        "colab": {
          "base_uri": "https://localhost:8080/"
        },
        "id": "GgZSXcppW9R8",
        "outputId": "72adde9c-6367-4401-fd54-86b712d22479"
      },
      "execution_count": 8,
      "outputs": [
        {
          "output_type": "stream",
          "name": "stdout",
          "text": [
            "bagels\n",
            "cereal\n",
            "coffee\n",
            "yooo I got some eggs\n",
            "pancakes\n",
            "waffles\n",
            "syrup\n"
          ]
        }
      ]
    },
    {
      "cell_type": "code",
      "source": [
        "newlist=['bagels','cereal','coffee','eggs','pancakes','waffles','syrup']\n",
        "for food in newlist:\n",
        "  if food == 'eggs':\n",
        "    #print('yooo I got some eggs')\n",
        "    break\n",
        "  else:\n",
        "      print(food)"
      ],
      "metadata": {
        "colab": {
          "base_uri": "https://localhost:8080/"
        },
        "id": "5EXziaxXXQnp",
        "outputId": "bce81bef-4438-48f0-eea0-935aa8c51c0e"
      },
      "execution_count": 10,
      "outputs": [
        {
          "output_type": "stream",
          "name": "stdout",
          "text": [
            "bagels\n",
            "cereal\n",
            "coffee\n"
          ]
        }
      ]
    },
    {
      "cell_type": "code",
      "source": [
        "newlist=['bagels','cereal','coffee','eggs','pancakes','waffles','syrup']\n",
        "for food in newlist:\n",
        "  if food == 'eggs':\n",
        "    #print('yooo I got some eggs')\n",
        "    continue\n",
        "  else:\n",
        "      print(food)"
      ],
      "metadata": {
        "colab": {
          "base_uri": "https://localhost:8080/"
        },
        "id": "VTB1a1Z1XbCc",
        "outputId": "1f38d122-598d-499d-e388-634f34f22810"
      },
      "execution_count": 11,
      "outputs": [
        {
          "output_type": "stream",
          "name": "stdout",
          "text": [
            "bagels\n",
            "cereal\n",
            "coffee\n",
            "pancakes\n",
            "waffles\n",
            "syrup\n"
          ]
        }
      ]
    },
    {
      "cell_type": "code",
      "source": [
        "newlist=['bagels','cereal','coffee','eggs','pancakes','waffles','syrup']\n",
        "for food in newlist:\n",
        "  if food == 'eggs':\n",
        "    #print('yooo I got some eggs')\n",
        "    continue\n",
        "  elif food=='waffles':\n",
        "    print('waffle is here')\n",
        "  else:\n",
        "      print(food)"
      ],
      "metadata": {
        "colab": {
          "base_uri": "https://localhost:8080/"
        },
        "id": "Q0Zgx4XRXlXe",
        "outputId": "4834bde9-fa0a-43b2-df43-426bab910d2f"
      },
      "execution_count": 12,
      "outputs": [
        {
          "output_type": "stream",
          "name": "stdout",
          "text": [
            "bagels\n",
            "cereal\n",
            "coffee\n",
            "pancakes\n",
            "waffle is here\n",
            "syrup\n"
          ]
        }
      ]
    },
    {
      "cell_type": "code",
      "source": [
        "mydict={\n",
        "    'food':'grits',\n",
        "    'sport':'cycling',\n",
        "    'color':'gray',\n",
        "    'car':'mycar',\n",
        "    'city':'NYC'\n",
        "    }\n",
        "mydict"
      ],
      "metadata": {
        "colab": {
          "base_uri": "https://localhost:8080/"
        },
        "id": "G5MyJuOVY-0o",
        "outputId": "4772b301-195b-4105-8178-0f0b5d37fc60"
      },
      "execution_count": 16,
      "outputs": [
        {
          "output_type": "execute_result",
          "data": {
            "text/plain": [
              "{'food': 'grits',\n",
              " 'sport': 'cycling',\n",
              " 'color': 'gray',\n",
              " 'car': 'mycar',\n",
              " 'city': 'NYC'}"
            ]
          },
          "metadata": {},
          "execution_count": 16
        }
      ]
    },
    {
      "cell_type": "code",
      "source": [
        "mydict.keys()"
      ],
      "metadata": {
        "colab": {
          "base_uri": "https://localhost:8080/"
        },
        "id": "ghKsZKj3Z49-",
        "outputId": "6d4be1d7-d4d0-4315-fa47-e0f1d4e5c6f8"
      },
      "execution_count": 17,
      "outputs": [
        {
          "output_type": "execute_result",
          "data": {
            "text/plain": [
              "dict_keys(['food', 'sport', 'color', 'car', 'city'])"
            ]
          },
          "metadata": {},
          "execution_count": 17
        }
      ]
    },
    {
      "cell_type": "code",
      "source": [
        "mydict['color']"
      ],
      "metadata": {
        "colab": {
          "base_uri": "https://localhost:8080/",
          "height": 35
        },
        "id": "v3_eVJo6aH3T",
        "outputId": "74e0d30e-75cf-4739-c649-9cfc6df1d9cc"
      },
      "execution_count": 18,
      "outputs": [
        {
          "output_type": "execute_result",
          "data": {
            "text/plain": [
              "'gray'"
            ],
            "application/vnd.google.colaboratory.intrinsic+json": {
              "type": "string"
            }
          },
          "metadata": {},
          "execution_count": 18
        }
      ]
    },
    {
      "cell_type": "code",
      "source": [
        "for dict in mydict:\n",
        "  print(dict)"
      ],
      "metadata": {
        "colab": {
          "base_uri": "https://localhost:8080/"
        },
        "id": "sFReKM5_a4qn",
        "outputId": "e20e145c-a988-47f9-f8db-7ee340444a92"
      },
      "execution_count": 19,
      "outputs": [
        {
          "output_type": "stream",
          "name": "stdout",
          "text": [
            "food\n",
            "sport\n",
            "color\n",
            "car\n",
            "city\n"
          ]
        }
      ]
    },
    {
      "cell_type": "code",
      "source": [
        "for x in mydict:\n",
        "  print(mydict[x])"
      ],
      "metadata": {
        "colab": {
          "base_uri": "https://localhost:8080/"
        },
        "id": "6jMzyIuvbMo8",
        "outputId": "7a163924-8465-4a47-f8a4-4ff7e28a778e"
      },
      "execution_count": 25,
      "outputs": [
        {
          "output_type": "stream",
          "name": "stdout",
          "text": [
            "grits\n",
            "cycling\n",
            "gray\n",
            "mycar\n",
            "NYC\n"
          ]
        }
      ]
    },
    {
      "cell_type": "code",
      "source": [
        "for key, value in mydict.items():\n",
        "  print(key)\n",
        "  print(value)"
      ],
      "metadata": {
        "colab": {
          "base_uri": "https://localhost:8080/"
        },
        "id": "d0fNCbQybqsJ",
        "outputId": "06cc6140-716a-4a78-c4b0-bc4c7e4f63e8"
      },
      "execution_count": 27,
      "outputs": [
        {
          "output_type": "stream",
          "name": "stdout",
          "text": [
            "food\n",
            "grits\n",
            "sport\n",
            "cycling\n",
            "color\n",
            "gray\n",
            "car\n",
            "mycar\n",
            "city\n",
            "NYC\n"
          ]
        }
      ]
    },
    {
      "cell_type": "code",
      "source": [
        "for key, value in mydict.items():\n",
        "  print(key,'-------->', value)"
      ],
      "metadata": {
        "colab": {
          "base_uri": "https://localhost:8080/"
        },
        "id": "pf553AWBcLqu",
        "outputId": "9494866e-077d-4bae-f6bd-19c10820e3bc"
      },
      "execution_count": 29,
      "outputs": [
        {
          "output_type": "stream",
          "name": "stdout",
          "text": [
            "food --------> grits\n",
            "sport --------> cycling\n",
            "color --------> gray\n",
            "car --------> mycar\n",
            "city --------> NYC\n"
          ]
        }
      ]
    },
    {
      "cell_type": "code",
      "source": [
        "mytupe=('squirrels', 'rabbits','beavers','opossums','foxes','wolves','sheep')\n",
        "mytupe"
      ],
      "metadata": {
        "colab": {
          "base_uri": "https://localhost:8080/"
        },
        "id": "zjP4wA30czAG",
        "outputId": "512ac1b0-398b-40ed-ecc2-99bd7ae8f0d9"
      },
      "execution_count": 30,
      "outputs": [
        {
          "output_type": "execute_result",
          "data": {
            "text/plain": [
              "('squirrels', 'rabbits', 'beavers', 'opossums', 'foxes', 'wolves', 'sheep')"
            ]
          },
          "metadata": {},
          "execution_count": 30
        }
      ]
    },
    {
      "cell_type": "code",
      "source": [
        "for thing in mytupe:\n",
        "  print(thing)"
      ],
      "metadata": {
        "colab": {
          "base_uri": "https://localhost:8080/"
        },
        "id": "nlFnhtdMdJMI",
        "outputId": "fcb645d1-10b8-450f-9cc2-881fc86f802e"
      },
      "execution_count": 31,
      "outputs": [
        {
          "output_type": "stream",
          "name": "stdout",
          "text": [
            "squirrels\n",
            "rabbits\n",
            "beavers\n",
            "opossums\n",
            "foxes\n",
            "wolves\n",
            "sheep\n"
          ]
        }
      ]
    },
    {
      "cell_type": "code",
      "source": [
        "for thing in mytupe:\n",
        "  if (thing != 'opossums'):\n",
        "    print(thing)\n",
        "  elif(thing=='rabbits')or(thing=='sheep'):\n",
        "      print('I have rabbits or sheep in my tuple')\n",
        "  else:\n",
        "       continue"
      ],
      "metadata": {
        "colab": {
          "base_uri": "https://localhost:8080/"
        },
        "id": "7b4ih1qOdQEa",
        "outputId": "bce3ac2a-9763-4dd0-b4d6-36ae877d6062"
      },
      "execution_count": 37,
      "outputs": [
        {
          "output_type": "stream",
          "name": "stdout",
          "text": [
            "squirrels\n",
            "rabbits\n",
            "beavers\n",
            "foxes\n",
            "wolves\n",
            "sheep\n"
          ]
        }
      ]
    },
    {
      "cell_type": "code",
      "source": [
        "for thing in mytupe:\n",
        "  if (thing == 'opossums'):\n",
        "    print(thing)\n",
        "  elif(thing=='rabbits')or(thing=='sheep'):\n",
        "      print('I have rabbits or sheep in my tuple')\n",
        "  else:\n",
        "       continue"
      ],
      "metadata": {
        "colab": {
          "base_uri": "https://localhost:8080/"
        },
        "id": "zAHERJAiebeQ",
        "outputId": "1ca01787-04c5-4cd1-ceaa-87378fea59ef"
      },
      "execution_count": 38,
      "outputs": [
        {
          "output_type": "stream",
          "name": "stdout",
          "text": [
            "I have rabbits or sheep in my tuple\n",
            "opossums\n",
            "I have rabbits or sheep in my tuple\n"
          ]
        }
      ]
    }
  ]
}