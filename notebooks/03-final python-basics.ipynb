{
  "cells": [
    {
      "cell_type": "markdown",
      "metadata": {
        "id": "view-in-github",
        "colab_type": "text"
      },
      "source": [
        "<a href=\"https://colab.research.google.com/github/Robertocarbonee/DS1002-mvu2pj/blob/main/notebooks/03-final%20python-basics.ipynb\" target=\"_parent\"><img src=\"https://colab.research.google.com/assets/colab-badge.svg\" alt=\"Open In Colab\"/></a>"
      ]
    },
    {
      "cell_type": "markdown",
      "id": "7f2a553a",
      "metadata": {
        "id": "7f2a553a"
      },
      "source": [
        "# Metadata\n",
        "\n",
        "```\n",
        "Course:      DS 1002\n",
        "Week:        Python Basics\n",
        "Topic:       Python Types, Operators, and Expressions\n",
        "```"
      ]
    },
    {
      "cell_type": "markdown",
      "id": "19ee6f8f",
      "metadata": {
        "id": "19ee6f8f"
      },
      "source": [
        "# Comments"
      ]
    },
    {
      "cell_type": "markdown",
      "id": "2e95d671",
      "metadata": {
        "id": "2e95d671"
      },
      "source": [
        "You can comment out any single line with a # character.\n",
        "    \n",
        "    # Here is a comment\n",
        "\n",
        "You can comment out multiple lines using triple quote marks on both ends.\n",
        "\n",
        "```python\n",
        "\"\"\"\n",
        "Here is a long comment that takes up several lines.\n",
        "I wonder how long it will go?\n",
        "Okay maybe just three lines long\n",
        "\"\"\"\n",
        "```"
      ]
    },
    {
      "cell_type": "markdown",
      "id": "420867eb",
      "metadata": {
        "id": "420867eb"
      },
      "source": [
        "# Reserved Keywords"
      ]
    },
    {
      "cell_type": "markdown",
      "id": "5c1c4907",
      "metadata": {
        "id": "5c1c4907"
      },
      "source": [
        "Reserved keywords have specific meanings and restrictions on how they should be used.\n",
        "\n",
        "More examples:\n",
        "\n",
        "`False`   \n",
        "`await`\n",
        "`else`\n",
        "`import`   \n",
        "`pass`  \n",
        "`None`   \n",
        "`break`   \n",
        "`except`   \n",
        "`in`   \n",
        "`raise`   \n",
        "`True`   \n",
        "`class`   \n",
        "`finally`   \n",
        "`is`\n",
        "`return`   \n",
        "`and`   \n",
        "`continue`   \n",
        "`for`   \n",
        "`lambda`   \n",
        "`try`   \n",
        "`as`   \n",
        "`def`   \n",
        "`from`   \n",
        "`nonlocal`   \n",
        "`while`   \n",
        "`assert`   \n",
        "`del`   \n",
        "`global`\n",
        "`not`   \n",
        "`with`   \n",
        "`async`   \n",
        "`elif`\t  \n",
        "`if`   \n",
        "`or`   \n",
        "`yield`"
      ]
    },
    {
      "cell_type": "markdown",
      "id": "2f7ae123",
      "metadata": {
        "id": "2f7ae123"
      },
      "source": [
        "# Variables & Types"
      ]
    },
    {
      "cell_type": "markdown",
      "id": "92a9caa8",
      "metadata": {
        "id": "92a9caa8"
      },
      "source": [
        "Variables are assigned types **dynamically**."
      ]
    },
    {
      "cell_type": "code",
      "execution_count": null,
      "id": "fe148025",
      "metadata": {
        "id": "fe148025"
      },
      "outputs": [],
      "source": [
        "# variable name = assigned value\n",
        "x = 4\n",
        "x"
      ]
    },
    {
      "cell_type": "code",
      "execution_count": null,
      "id": "62a4d6d9",
      "metadata": {
        "id": "62a4d6d9"
      },
      "outputs": [],
      "source": [
        "y = 100 + 25\n",
        "y"
      ]
    },
    {
      "cell_type": "code",
      "execution_count": null,
      "id": "ec0ca490",
      "metadata": {
        "id": "ec0ca490"
      },
      "outputs": [],
      "source": [
        "# can type variable to get value\n",
        "x"
      ]
    },
    {
      "cell_type": "code",
      "execution_count": null,
      "id": "bfb5dda2",
      "metadata": {
        "id": "bfb5dda2"
      },
      "outputs": [],
      "source": [
        "# can use print() function to view assigned value\n",
        "# the print() function has a lot of uses and will be discussed later\n",
        "print(x)"
      ]
    },
    {
      "cell_type": "code",
      "execution_count": null,
      "id": "256e6b1c",
      "metadata": {
        "id": "256e6b1c"
      },
      "outputs": [],
      "source": [
        "# reassign variable\n",
        "x = 5\n",
        "x"
      ]
    },
    {
      "cell_type": "code",
      "execution_count": null,
      "id": "358db343",
      "metadata": {
        "id": "358db343"
      },
      "outputs": [],
      "source": [
        "# variable arithmetic\n",
        "x + y"
      ]
    },
    {
      "cell_type": "code",
      "execution_count": null,
      "id": "2f439542",
      "metadata": {
        "id": "2f439542"
      },
      "outputs": [],
      "source": [
        "# variables of other data types\n",
        "float_var = 4.22\n",
        "string_var = 'virginia'\n",
        "bool_var = True"
      ]
    },
    {
      "cell_type": "code",
      "execution_count": null,
      "id": "c7450065",
      "metadata": {
        "id": "c7450065"
      },
      "outputs": [],
      "source": [
        "type(float_var) # gives you type of data variable is holding"
      ]
    },
    {
      "cell_type": "code",
      "execution_count": null,
      "id": "2a29aba5",
      "metadata": {
        "id": "2a29aba5"
      },
      "outputs": [],
      "source": [
        "# delete a variable with function del()\n",
        "del(x)\n",
        "\n",
        "x"
      ]
    },
    {
      "cell_type": "markdown",
      "id": "df67456e",
      "metadata": {
        "id": "df67456e"
      },
      "source": [
        "## Object ID\n",
        "\n",
        "Every variable created in Python is given a unique ID.\n",
        "\n",
        "This ID where the variable is stored in memory. The ID is for the variable, not the variable's value.\n",
        "\n",
        "> Exception: if the number is between -5 - 256 or a simple string with no spaces, it will not be given a unique id for memory optimization purposes\n",
        "\n",
        "We can find an object's ID using `id()`"
      ]
    },
    {
      "cell_type": "code",
      "execution_count": null,
      "id": "a2e0fa0b",
      "metadata": {
        "id": "a2e0fa0b"
      },
      "outputs": [],
      "source": [
        "a = 278"
      ]
    },
    {
      "cell_type": "code",
      "execution_count": null,
      "id": "015e463c",
      "metadata": {
        "id": "015e463c"
      },
      "outputs": [],
      "source": [
        "b = 278"
      ]
    },
    {
      "cell_type": "code",
      "execution_count": null,
      "id": "98300a13",
      "metadata": {
        "id": "98300a13"
      },
      "outputs": [],
      "source": [
        "print(id(a))\n",
        "print(id(b))"
      ]
    },
    {
      "cell_type": "code",
      "execution_count": null,
      "id": "5608f8f6",
      "metadata": {
        "id": "5608f8f6"
      },
      "outputs": [],
      "source": [
        "a == b # 2 = 2"
      ]
    },
    {
      "cell_type": "code",
      "execution_count": null,
      "id": "7509da98",
      "metadata": {
        "id": "7509da98"
      },
      "outputs": [],
      "source": [
        "id(a) == id(b)"
      ]
    },
    {
      "cell_type": "markdown",
      "id": "c2b08e1b",
      "metadata": {
        "id": "c2b08e1b"
      },
      "source": [
        "## Converting Data Types\n",
        "\n",
        "When needed you can 'cast' a variable as a different string type (remember Python automatically assigns data type to a variable).\n",
        "\n",
        "We do this through casting functions:"
      ]
    },
    {
      "cell_type": "markdown",
      "id": "dbb0c35f",
      "metadata": {
        "id": "dbb0c35f"
      },
      "source": [
        "**`int()`**"
      ]
    },
    {
      "cell_type": "code",
      "execution_count": null,
      "id": "39b9e5f5",
      "metadata": {
        "id": "39b9e5f5"
      },
      "outputs": [],
      "source": [
        "# create float variable\n",
        "var_float = 9.6\n",
        "type(var_float)"
      ]
    },
    {
      "cell_type": "code",
      "execution_count": null,
      "id": "b6440326",
      "metadata": {
        "id": "b6440326"
      },
      "outputs": [],
      "source": [
        "# cast float to integer\n",
        "var_int = int(var_float)\n",
        "\n",
        "print(type(var_int))\n",
        "var_int"
      ]
    },
    {
      "cell_type": "markdown",
      "id": "7765a689",
      "metadata": {
        "id": "7765a689"
      },
      "source": [
        "**`float()`**"
      ]
    },
    {
      "cell_type": "code",
      "execution_count": null,
      "id": "b052299d",
      "metadata": {
        "id": "b052299d"
      },
      "outputs": [],
      "source": [
        "# create string variable\n",
        "var_str = '10.2'\n",
        "type(var_str)"
      ]
    },
    {
      "cell_type": "code",
      "execution_count": null,
      "id": "3c617d79",
      "metadata": {
        "id": "3c617d79"
      },
      "outputs": [],
      "source": [
        "# cast string to float\n",
        "var_float = float(var_str)\n",
        "print(type(var_float))\n",
        "print(var_float)"
      ]
    },
    {
      "cell_type": "markdown",
      "id": "a39bd925",
      "metadata": {
        "id": "a39bd925"
      },
      "source": [
        "# Operators\n",
        "\n",
        "If variables are **nouns**, and values **meanings**, then operators are **verbs**.\n",
        "\n",
        "In effect, they are **elementary functions** that are expressed in sequential syntax.\n",
        "\n",
        "**Each data type is associated with a set of operators** that allow you to manipulate the data in way that makes sense for its type. Numeric data types are subject to mathematical operations, booleans to logical ones, and so forth.\n",
        "\n",
        "There are also **operations appropriate to structures**. For example, list-like things have membership.\n",
        "\n",
        "The relationship between types and operators is a microcosm of the relationship betweed data structures and algorithms. **Data structures imply algorithms and algorithms assume data structures.**\n",
        "\n",
        "The w3schools site has [a good summary](https://www.w3schools.com/python/python_operators.asp).\n"
      ]
    },
    {
      "cell_type": "markdown",
      "id": "62f47df4",
      "metadata": {
        "id": "62f47df4"
      },
      "source": [
        "## Numeric Operators"
      ]
    },
    {
      "cell_type": "markdown",
      "id": "36321606",
      "metadata": {
        "id": "36321606"
      },
      "source": [
        "Common: `+`, `-`, `*`, `/`\n",
        "\n",
        "\n",
        "\n",
        "Other operators:"
      ]
    },
    {
      "cell_type": "markdown",
      "id": "19c15a61",
      "metadata": {
        "id": "19c15a61"
      },
      "source": [
        "**floor division `//`**\n",
        "\n",
        "returns the largest integer less than or equal to the result"
      ]
    },
    {
      "cell_type": "code",
      "execution_count": null,
      "id": "b2746f37",
      "metadata": {
        "id": "b2746f37"
      },
      "outputs": [],
      "source": [
        "5 // 2"
      ]
    },
    {
      "cell_type": "code",
      "execution_count": null,
      "id": "54cd2cde",
      "metadata": {
        "id": "54cd2cde"
      },
      "outputs": [],
      "source": [
        "-5 // 2"
      ]
    },
    {
      "cell_type": "markdown",
      "id": "f760f61f",
      "metadata": {
        "id": "f760f61f"
      },
      "source": [
        "**modulus `%`**\n",
        "\n",
        "returns the remainder after a division operation"
      ]
    },
    {
      "cell_type": "code",
      "execution_count": null,
      "id": "883ab576",
      "metadata": {
        "id": "883ab576"
      },
      "outputs": [],
      "source": [
        "5 % 2"
      ]
    },
    {
      "cell_type": "code",
      "execution_count": null,
      "id": "5cd863fc",
      "metadata": {
        "id": "5cd863fc"
      },
      "outputs": [],
      "source": [
        "print(5.5 / 2)\n",
        "print(5.5 // 2)\n",
        "print(5.5 % 2)"
      ]
    },
    {
      "cell_type": "markdown",
      "id": "f7b812d1",
      "metadata": {
        "id": "f7b812d1"
      },
      "source": [
        "**exponentiation `**` **"
      ]
    },
    {
      "cell_type": "code",
      "execution_count": null,
      "id": "65646db4",
      "metadata": {
        "id": "65646db4"
      },
      "outputs": [],
      "source": [
        "5**2"
      ]
    },
    {
      "cell_type": "markdown",
      "id": "d4e24480",
      "metadata": {
        "id": "d4e24480"
      },
      "source": [
        "## String Operators"
      ]
    },
    {
      "cell_type": "markdown",
      "id": "beddac76",
      "metadata": {
        "id": "beddac76"
      },
      "source": [
        "**concatenation `+`**"
      ]
    },
    {
      "cell_type": "code",
      "execution_count": 1,
      "id": "1b8c472f",
      "metadata": {
        "colab": {
          "base_uri": "https://localhost:8080/",
          "height": 35
        },
        "id": "1b8c472f",
        "outputId": "7be13859-a629-48a4-cc0b-3e0d42d02d71"
      },
      "outputs": [
        {
          "output_type": "execute_result",
          "data": {
            "text/plain": [
              "'Hello world!Goodbye world!'"
            ],
            "application/vnd.google.colaboratory.intrinsic+json": {
              "type": "string"
            }
          },
          "metadata": {},
          "execution_count": 1
        }
      ],
      "source": [
        "string1 = 'Hello world!'\n",
        "string2 = 'Goodbye world!'\n",
        "\n",
        "string1 + string2"
      ]
    },
    {
      "cell_type": "code",
      "source": [
        "string1 = 'Hello world!'\n",
        "string2 = 'Goodbye world!'\n",
        "string1 + ' ' + string2"
      ],
      "metadata": {
        "id": "-XmoNpgkMWYz",
        "outputId": "c007330a-1292-4ca5-d557-0958fb7a70b1",
        "colab": {
          "base_uri": "https://localhost:8080/",
          "height": 35
        }
      },
      "id": "-XmoNpgkMWYz",
      "execution_count": 6,
      "outputs": [
        {
          "output_type": "execute_result",
          "data": {
            "text/plain": [
              "'Hello world! Goodbye world!'"
            ],
            "application/vnd.google.colaboratory.intrinsic+json": {
              "type": "string"
            }
          },
          "metadata": {},
          "execution_count": 6
        }
      ]
    },
    {
      "cell_type": "code",
      "execution_count": 2,
      "id": "6d02ece1",
      "metadata": {
        "colab": {
          "base_uri": "https://localhost:8080/",
          "height": 35
        },
        "id": "6d02ece1",
        "outputId": "d507e710-c3b1-4211-aaf7-3b34625533ec"
      },
      "outputs": [
        {
          "output_type": "execute_result",
          "data": {
            "text/plain": [
              "'Hello world!Goodbye world! Hello again!'"
            ],
            "application/vnd.google.colaboratory.intrinsic+json": {
              "type": "string"
            }
          },
          "metadata": {},
          "execution_count": 2
        }
      ],
      "source": [
        "string1 + string2 + ' Hello again!'"
      ]
    },
    {
      "cell_type": "code",
      "execution_count": 4,
      "id": "ffb4dd10",
      "metadata": {
        "colab": {
          "base_uri": "https://localhost:8080/"
        },
        "id": "ffb4dd10",
        "outputId": "87548af1-2aa0-4e2c-d6dd-4245f38b1281"
      },
      "outputs": [
        {
          "output_type": "stream",
          "name": "stdout",
          "text": [
            "Hello world!Goodbye world! Hello again!\n"
          ]
        }
      ],
      "source": [
        "print(string1 + string2 + ' Hello again!')"
      ]
    },
    {
      "cell_type": "markdown",
      "id": "e65c547f",
      "metadata": {
        "id": "e65c547f"
      },
      "source": [
        "**repetition `*`**"
      ]
    },
    {
      "cell_type": "code",
      "execution_count": 7,
      "id": "c7f6ce3c",
      "metadata": {
        "colab": {
          "base_uri": "https://localhost:8080/",
          "height": 35
        },
        "id": "c7f6ce3c",
        "outputId": "62b7d9bc-1ba5-4669-a02c-d5ade6daebf2"
      },
      "outputs": [
        {
          "output_type": "execute_result",
          "data": {
            "text/plain": [
              "'Hello world!Hello world!'"
            ],
            "application/vnd.google.colaboratory.intrinsic+json": {
              "type": "string"
            }
          },
          "metadata": {},
          "execution_count": 7
        }
      ],
      "source": [
        "string1 * 2"
      ]
    },
    {
      "cell_type": "code",
      "source": [
        "string5= \"Roberto is cool\"\n",
        "string5 * 30"
      ],
      "metadata": {
        "id": "qKEc4u_wM1mc",
        "outputId": "8a29341e-1361-4b44-b74f-9ea7af4c62be",
        "colab": {
          "base_uri": "https://localhost:8080/",
          "height": 69
        }
      },
      "id": "qKEc4u_wM1mc",
      "execution_count": 9,
      "outputs": [
        {
          "output_type": "execute_result",
          "data": {
            "text/plain": [
              "'Roberto is coolRoberto is coolRoberto is coolRoberto is coolRoberto is coolRoberto is coolRoberto is coolRoberto is coolRoberto is coolRoberto is coolRoberto is coolRoberto is coolRoberto is coolRoberto is coolRoberto is coolRoberto is coolRoberto is coolRoberto is coolRoberto is coolRoberto is coolRoberto is coolRoberto is coolRoberto is coolRoberto is coolRoberto is coolRoberto is coolRoberto is coolRoberto is coolRoberto is coolRoberto is cool'"
            ],
            "application/vnd.google.colaboratory.intrinsic+json": {
              "type": "string"
            }
          },
          "metadata": {},
          "execution_count": 9
        }
      ]
    },
    {
      "cell_type": "code",
      "execution_count": 10,
      "id": "b489cdeb",
      "metadata": {
        "colab": {
          "base_uri": "https://localhost:8080/"
        },
        "id": "b489cdeb",
        "outputId": "0843190a-f172-4e35-b47f-c54ffe1e8fae"
      },
      "outputs": [
        {
          "output_type": "stream",
          "name": "stdout",
          "text": [
            "Hello world!\n",
            "Hello world!\n",
            "Hello world!\n",
            "Hello world!\n",
            "Hello world!\n",
            "\n"
          ]
        }
      ],
      "source": [
        "# '\\n' moves to the next line (like hitting the return button)\n",
        "print((string1 + '\\n') * 5)"
      ]
    },
    {
      "cell_type": "markdown",
      "id": "1eb2f0fb",
      "metadata": {
        "id": "1eb2f0fb"
      },
      "source": [
        "**subsetting a string**"
      ]
    },
    {
      "cell_type": "code",
      "execution_count": 11,
      "id": "f920bead",
      "metadata": {
        "colab": {
          "base_uri": "https://localhost:8080/",
          "height": 35
        },
        "id": "f920bead",
        "outputId": "150bf55a-ba8b-4c60-f593-803df31551c9"
      },
      "outputs": [
        {
          "output_type": "execute_result",
          "data": {
            "text/plain": [
              "'He'"
            ],
            "application/vnd.google.colaboratory.intrinsic+json": {
              "type": "string"
            }
          },
          "metadata": {},
          "execution_count": 11
        }
      ],
      "source": [
        "# extract the first 2 characters\n",
        "string1[:2]"
      ]
    },
    {
      "cell_type": "code",
      "source": [
        "string5[:4]"
      ],
      "metadata": {
        "id": "yr0IUovlNH_3",
        "outputId": "b9a45767-89d4-4891-a5d5-46e2f60f088e",
        "colab": {
          "base_uri": "https://localhost:8080/",
          "height": 35
        }
      },
      "id": "yr0IUovlNH_3",
      "execution_count": 12,
      "outputs": [
        {
          "output_type": "execute_result",
          "data": {
            "text/plain": [
              "'Robe'"
            ],
            "application/vnd.google.colaboratory.intrinsic+json": {
              "type": "string"
            }
          },
          "metadata": {},
          "execution_count": 12
        }
      ]
    },
    {
      "cell_type": "code",
      "execution_count": 13,
      "id": "02395bc2",
      "metadata": {
        "colab": {
          "base_uri": "https://localhost:8080/",
          "height": 35
        },
        "id": "02395bc2",
        "outputId": "16b5fcbc-7756-42fe-b6da-3817ac10d9a7"
      },
      "outputs": [
        {
          "output_type": "execute_result",
          "data": {
            "text/plain": [
              "'d!'"
            ],
            "application/vnd.google.colaboratory.intrinsic+json": {
              "type": "string"
            }
          },
          "metadata": {},
          "execution_count": 13
        }
      ],
      "source": [
        "# extract the last 2 characters\n",
        "string1[-2:]"
      ]
    },
    {
      "cell_type": "code",
      "source": [
        "string5[-6:]"
      ],
      "metadata": {
        "id": "Nq8d4wcdNPrK",
        "outputId": "34678e74-bb2b-4855-a171-cc0cf40cbb54",
        "colab": {
          "base_uri": "https://localhost:8080/",
          "height": 35
        }
      },
      "id": "Nq8d4wcdNPrK",
      "execution_count": 20,
      "outputs": [
        {
          "output_type": "execute_result",
          "data": {
            "text/plain": [
              "'s cool'"
            ],
            "application/vnd.google.colaboratory.intrinsic+json": {
              "type": "string"
            }
          },
          "metadata": {},
          "execution_count": 20
        }
      ]
    },
    {
      "cell_type": "code",
      "execution_count": 21,
      "id": "11b5f9fe",
      "metadata": {
        "colab": {
          "base_uri": "https://localhost:8080/"
        },
        "id": "11b5f9fe",
        "outputId": "eecad7cd-c1a9-434c-f519-dc13772dff40"
      },
      "outputs": [
        {
          "output_type": "execute_result",
          "data": {
            "text/plain": [
              "False"
            ]
          },
          "metadata": {},
          "execution_count": 21
        }
      ],
      "source": [
        "string1.startswith('o')"
      ]
    },
    {
      "cell_type": "code",
      "execution_count": 22,
      "id": "bfe6abad",
      "metadata": {
        "colab": {
          "base_uri": "https://localhost:8080/"
        },
        "id": "bfe6abad",
        "outputId": "e7d650d2-385d-4548-ccfc-6b8ee443c72f"
      },
      "outputs": [
        {
          "output_type": "execute_result",
          "data": {
            "text/plain": [
              "True"
            ]
          },
          "metadata": {},
          "execution_count": 22
        }
      ],
      "source": [
        "string1.endswith('!')"
      ]
    },
    {
      "cell_type": "code",
      "source": [
        "string5.startswith('R') #occhio alle maiuscole/minuscole"
      ],
      "metadata": {
        "id": "YPq-6BO3Ngo5",
        "outputId": "b3073408-5f53-4c71-abc6-96bd9347d675",
        "colab": {
          "base_uri": "https://localhost:8080/"
        }
      },
      "id": "YPq-6BO3Ngo5",
      "execution_count": 23,
      "outputs": [
        {
          "output_type": "execute_result",
          "data": {
            "text/plain": [
              "True"
            ]
          },
          "metadata": {},
          "execution_count": 23
        }
      ]
    },
    {
      "cell_type": "code",
      "source": [
        "string5.startswith('r')"
      ],
      "metadata": {
        "id": "jMpTyCAhNpZf",
        "outputId": "9436c91d-65bd-4eb5-c586-b07ab540b018",
        "colab": {
          "base_uri": "https://localhost:8080/"
        }
      },
      "id": "jMpTyCAhNpZf",
      "execution_count": 24,
      "outputs": [
        {
          "output_type": "execute_result",
          "data": {
            "text/plain": [
              "False"
            ]
          },
          "metadata": {},
          "execution_count": 24
        }
      ]
    },
    {
      "cell_type": "markdown",
      "id": "2b532933",
      "metadata": {
        "id": "2b532933"
      },
      "source": [
        "**Python strings are *immutable* - cannot reassign elements**"
      ]
    },
    {
      "cell_type": "code",
      "execution_count": 26,
      "id": "3eeaf3a4",
      "metadata": {
        "colab": {
          "base_uri": "https://localhost:8080/",
          "height": 174
        },
        "id": "3eeaf3a4",
        "outputId": "97446b3b-51b1-4100-841d-9793979842fc"
      },
      "outputs": [
        {
          "output_type": "error",
          "ename": "TypeError",
          "evalue": "ignored",
          "traceback": [
            "\u001b[0;31m---------------------------------------------------------------------------\u001b[0m",
            "\u001b[0;31mTypeError\u001b[0m                                 Traceback (most recent call last)",
            "\u001b[0;32m<ipython-input-26-85b57f022a0c>\u001b[0m in \u001b[0;36m<cell line: 1>\u001b[0;34m()\u001b[0m\n\u001b[0;32m----> 1\u001b[0;31m \u001b[0mstring1\u001b[0m\u001b[0;34m[\u001b[0m\u001b[0;36m0\u001b[0m\u001b[0;34m]\u001b[0m \u001b[0;34m=\u001b[0m \u001b[0;34m'Y'\u001b[0m\u001b[0;34m\u001b[0m\u001b[0;34m\u001b[0m\u001b[0m\n\u001b[0m",
            "\u001b[0;31mTypeError\u001b[0m: 'str' object does not support item assignment"
          ]
        }
      ],
      "source": [
        "string1[0] = 'Y'"
      ]
    },
    {
      "cell_type": "markdown",
      "id": "74ab041a",
      "metadata": {
        "id": "74ab041a"
      },
      "source": [
        "## Comparison Operators\n",
        "\n",
        "comparisons are questions and return boolean values"
      ]
    },
    {
      "cell_type": "markdown",
      "id": "223926d9",
      "metadata": {
        "id": "223926d9"
      },
      "source": [
        "**equality `==`**"
      ]
    },
    {
      "cell_type": "code",
      "execution_count": 27,
      "id": "238eba4f",
      "metadata": {
        "colab": {
          "base_uri": "https://localhost:8080/"
        },
        "id": "238eba4f",
        "outputId": "a5bc05f3-05e0-4ed4-ac62-d0de3c1fe5ce"
      },
      "outputs": [
        {
          "output_type": "execute_result",
          "data": {
            "text/plain": [
              "True"
            ]
          },
          "metadata": {},
          "execution_count": 27
        }
      ],
      "source": [
        "# numeric\n",
        "25 == 4**2 + 9"
      ]
    },
    {
      "cell_type": "code",
      "execution_count": 28,
      "id": "bebcc082",
      "metadata": {
        "colab": {
          "base_uri": "https://localhost:8080/"
        },
        "id": "bebcc082",
        "outputId": "1c7d1f53-2fd7-454b-e3b6-86400aac9bcb"
      },
      "outputs": [
        {
          "output_type": "execute_result",
          "data": {
            "text/plain": [
              "False"
            ]
          },
          "metadata": {},
          "execution_count": 28
        }
      ],
      "source": [
        "# string\n",
        "string1 == string2"
      ]
    },
    {
      "cell_type": "code",
      "source": [
        "animal1 = \"dog\"\n",
        "animal2 = \"Dog\"\n",
        "animal1 == animal2 #sono uguali? no perche python is case sensitive"
      ],
      "metadata": {
        "id": "oNJR2XkEOy9o",
        "outputId": "ab87b521-6463-48a5-85cd-28023c02b1ca",
        "colab": {
          "base_uri": "https://localhost:8080/"
        }
      },
      "id": "oNJR2XkEOy9o",
      "execution_count": 34,
      "outputs": [
        {
          "output_type": "execute_result",
          "data": {
            "text/plain": [
              "False"
            ]
          },
          "metadata": {},
          "execution_count": 34
        }
      ]
    },
    {
      "cell_type": "code",
      "source": [
        "animal1 = \"dog\"\n",
        "animal2 = \"Dog\"\n",
        "animal1 != animal2 #sono diversi? si perche python is case sensitive"
      ],
      "metadata": {
        "id": "TRel7YHJPQ-s",
        "outputId": "a5dbf2c7-b515-44b4-d085-25b89e676d3a",
        "colab": {
          "base_uri": "https://localhost:8080/"
        }
      },
      "id": "TRel7YHJPQ-s",
      "execution_count": 38,
      "outputs": [
        {
          "output_type": "execute_result",
          "data": {
            "text/plain": [
              "True"
            ]
          },
          "metadata": {},
          "execution_count": 38
        }
      ]
    },
    {
      "cell_type": "markdown",
      "id": "bd41f67a",
      "metadata": {
        "id": "bd41f67a"
      },
      "source": [
        "**inequality `!=`**"
      ]
    },
    {
      "cell_type": "code",
      "execution_count": 39,
      "id": "3f493f41",
      "metadata": {
        "colab": {
          "base_uri": "https://localhost:8080/"
        },
        "id": "3f493f41",
        "outputId": "31a9b0d1-92b9-4aae-9974-fb366e29d0e3"
      },
      "outputs": [
        {
          "output_type": "execute_result",
          "data": {
            "text/plain": [
              "True"
            ]
          },
          "metadata": {},
          "execution_count": 39
        }
      ],
      "source": [
        "# numeric\n",
        "25 != 20 + 6"
      ]
    },
    {
      "cell_type": "code",
      "execution_count": 40,
      "id": "d3dcab60",
      "metadata": {
        "colab": {
          "base_uri": "https://localhost:8080/"
        },
        "id": "d3dcab60",
        "outputId": "614b08d3-54cf-4c40-9151-85e83ae6fcbc"
      },
      "outputs": [
        {
          "output_type": "execute_result",
          "data": {
            "text/plain": [
              "True"
            ]
          },
          "metadata": {},
          "execution_count": 40
        }
      ],
      "source": [
        "# string\n",
        "string1 != string2"
      ]
    },
    {
      "cell_type": "markdown",
      "id": "85b81fc4",
      "metadata": {
        "id": "85b81fc4"
      },
      "source": [
        "**greater than `>`, less than `<`**"
      ]
    },
    {
      "cell_type": "code",
      "execution_count": 41,
      "id": "66ae66a2",
      "metadata": {
        "colab": {
          "base_uri": "https://localhost:8080/"
        },
        "id": "66ae66a2",
        "outputId": "7d289ba6-355d-4ca5-dab3-0cacff453b6d"
      },
      "outputs": [
        {
          "output_type": "execute_result",
          "data": {
            "text/plain": [
              "True"
            ]
          },
          "metadata": {},
          "execution_count": 41
        }
      ],
      "source": [
        "20 > 10"
      ]
    },
    {
      "cell_type": "code",
      "execution_count": 42,
      "id": "cbc90b9f",
      "metadata": {
        "colab": {
          "base_uri": "https://localhost:8080/"
        },
        "id": "cbc90b9f",
        "outputId": "08bd8bbe-d41b-40aa-a9b5-72697cbb0dbc"
      },
      "outputs": [
        {
          "output_type": "execute_result",
          "data": {
            "text/plain": [
              "True"
            ]
          },
          "metadata": {},
          "execution_count": 42
        }
      ],
      "source": [
        "2*10 >= 20"
      ]
    },
    {
      "cell_type": "code",
      "execution_count": 43,
      "id": "c9dc02ef",
      "metadata": {
        "colab": {
          "base_uri": "https://localhost:8080/"
        },
        "id": "c9dc02ef",
        "outputId": "4893546a-e2e3-4e44-962a-1bc1b1bfefaf"
      },
      "outputs": [
        {
          "output_type": "execute_result",
          "data": {
            "text/plain": [
              "True"
            ]
          },
          "metadata": {},
          "execution_count": 43
        }
      ],
      "source": [
        "3%2 < 5"
      ]
    },
    {
      "cell_type": "code",
      "execution_count": 44,
      "id": "822d153c",
      "metadata": {
        "colab": {
          "base_uri": "https://localhost:8080/"
        },
        "id": "822d153c",
        "outputId": "7a42edd5-24c0-4611-9d87-7b92e817f183"
      },
      "outputs": [
        {
          "output_type": "execute_result",
          "data": {
            "text/plain": [
              "True"
            ]
          },
          "metadata": {},
          "execution_count": 44
        }
      ],
      "source": [
        "-3 <= 0"
      ]
    },
    {
      "cell_type": "markdown",
      "id": "6bc15d1a",
      "metadata": {
        "id": "6bc15d1a"
      },
      "source": [
        "## Logical Operators"
      ]
    },
    {
      "cell_type": "markdown",
      "id": "0852b502",
      "metadata": {
        "id": "0852b502"
      },
      "source": [
        "**conjunctions `and`, `or`, `not`**\n",
        "\n",
        "Note the we group comparisons with parentheses"
      ]
    },
    {
      "cell_type": "code",
      "execution_count": 45,
      "id": "94c739af",
      "metadata": {
        "colab": {
          "base_uri": "https://localhost:8080/"
        },
        "id": "94c739af",
        "outputId": "f6860065-a21d-4f26-e3aa-1711468d8cd3"
      },
      "outputs": [
        {
          "output_type": "execute_result",
          "data": {
            "text/plain": [
              "True"
            ]
          },
          "metadata": {},
          "execution_count": 45
        }
      ],
      "source": [
        "x = 10\n",
        "\n",
        "(x % 10 == 0) or (x < -1)"
      ]
    },
    {
      "cell_type": "code",
      "execution_count": 46,
      "id": "c965353f",
      "metadata": {
        "colab": {
          "base_uri": "https://localhost:8080/"
        },
        "id": "c965353f",
        "outputId": "70308512-478b-4fa2-cb0a-19147dd7b45c"
      },
      "outputs": [
        {
          "output_type": "execute_result",
          "data": {
            "text/plain": [
              "False"
            ]
          },
          "metadata": {},
          "execution_count": 46
        }
      ],
      "source": [
        "(x % 10 == 0) and (x < -1)"
      ]
    },
    {
      "cell_type": "code",
      "execution_count": 47,
      "id": "0a5c8923",
      "metadata": {
        "colab": {
          "base_uri": "https://localhost:8080/"
        },
        "id": "0a5c8923",
        "outputId": "d66bd755-f437-44d7-f500-220fb33b4bd4"
      },
      "outputs": [
        {
          "output_type": "execute_result",
          "data": {
            "text/plain": [
              "True"
            ]
          },
          "metadata": {},
          "execution_count": 47
        }
      ],
      "source": [
        "not x == 5"
      ]
    },
    {
      "cell_type": "markdown",
      "id": "2b2c6385",
      "metadata": {
        "id": "2b2c6385"
      },
      "source": [
        "**Identity `is`**\n",
        "\n",
        "The `is` keyword is used to test if two variables refer to the same object.\n",
        "\n",
        "The test returns `True` if the two objects are the same object.\n",
        "\n",
        "The test returns False if they are not the same object, even if the two objects are 100% equal.\n",
        "\n",
        "Use the `==` operator to test if two variables are equal.\n",
        "\n",
        "-- from [W3Schools on Identity Operators](https://www.w3schools.com/python/gloss_python_identity_operators.asp)"
      ]
    },
    {
      "cell_type": "code",
      "execution_count": 48,
      "id": "1fffb03e",
      "metadata": {
        "id": "1fffb03e"
      },
      "outputs": [],
      "source": [
        "x = ['apple', 'banana']\n",
        "y = ['apple', 'banana']\n",
        "z = x"
      ]
    },
    {
      "cell_type": "code",
      "execution_count": 49,
      "id": "7d1c3a7c",
      "metadata": {
        "colab": {
          "base_uri": "https://localhost:8080/"
        },
        "id": "7d1c3a7c",
        "outputId": "48215200-42bf-45ff-c5fb-3c50f1f08d2c"
      },
      "outputs": [
        {
          "output_type": "execute_result",
          "data": {
            "text/plain": [
              "True"
            ]
          },
          "metadata": {},
          "execution_count": 49
        }
      ],
      "source": [
        "x is z"
      ]
    },
    {
      "cell_type": "code",
      "execution_count": 50,
      "id": "3ad78cc4",
      "metadata": {
        "colab": {
          "base_uri": "https://localhost:8080/"
        },
        "id": "3ad78cc4",
        "outputId": "13096c86-2956-420f-8576-c607974a150b"
      },
      "outputs": [
        {
          "output_type": "execute_result",
          "data": {
            "text/plain": [
              "False"
            ]
          },
          "metadata": {},
          "execution_count": 50
        }
      ],
      "source": [
        "x is y"
      ]
    },
    {
      "cell_type": "code",
      "execution_count": 51,
      "id": "98ea6ee2",
      "metadata": {
        "colab": {
          "base_uri": "https://localhost:8080/"
        },
        "id": "98ea6ee2",
        "outputId": "cb827029-7fab-4b08-8dfd-236170fb2475"
      },
      "outputs": [
        {
          "output_type": "execute_result",
          "data": {
            "text/plain": [
              "True"
            ]
          },
          "metadata": {},
          "execution_count": 51
        }
      ],
      "source": [
        "x == y"
      ]
    },
    {
      "cell_type": "code",
      "execution_count": 52,
      "id": "c652f2de",
      "metadata": {
        "colab": {
          "base_uri": "https://localhost:8080/"
        },
        "id": "c652f2de",
        "outputId": "d59b2806-f835-44d8-84e8-02409e815790"
      },
      "outputs": [
        {
          "output_type": "execute_result",
          "data": {
            "text/plain": [
              "True"
            ]
          },
          "metadata": {},
          "execution_count": 52
        }
      ],
      "source": [
        "x == z"
      ]
    },
    {
      "cell_type": "markdown",
      "id": "47f381d0",
      "metadata": {
        "id": "47f381d0"
      },
      "source": [
        "**`isinstance()`**\n",
        "\n",
        "function returns `True` if the specified object is of the specified type, otherwise `False`"
      ]
    },
    {
      "cell_type": "code",
      "execution_count": 53,
      "id": "fc6373f1",
      "metadata": {
        "colab": {
          "base_uri": "https://localhost:8080/"
        },
        "id": "fc6373f1",
        "outputId": "732e4614-7961-43d6-cb9f-3a7f7e990fb5"
      },
      "outputs": [
        {
          "output_type": "execute_result",
          "data": {
            "text/plain": [
              "True"
            ]
          },
          "metadata": {},
          "execution_count": 53
        }
      ],
      "source": [
        "#example\n",
        "\n",
        "isinstance(\"Hello\", (float, int, str))"
      ]
    },
    {
      "cell_type": "code",
      "execution_count": 54,
      "id": "ffc578d5",
      "metadata": {
        "colab": {
          "base_uri": "https://localhost:8080/"
        },
        "id": "ffc578d5",
        "outputId": "42854569-06d6-4330-cd36-e6fc172c7d2d"
      },
      "outputs": [
        {
          "output_type": "execute_result",
          "data": {
            "text/plain": [
              "False"
            ]
          },
          "metadata": {},
          "execution_count": 54
        }
      ],
      "source": [
        "#example\n",
        "isinstance(\"Hello\", int)"
      ]
    },
    {
      "cell_type": "markdown",
      "id": "eac52c21",
      "metadata": {
        "id": "eac52c21"
      },
      "source": [
        "## Unary Operators\n",
        "\n",
        "Python offers a short-cut for most operators. When updating a variable with an operation to that variable, such as:\n",
        "```python\n",
        "my_var = my_var + 1  # Incrementing\n",
        "```\n",
        "\n",
        "You can do this:\n",
        "```python\n",
        "my_var += 1\n",
        "```"
      ]
    },
    {
      "cell_type": "code",
      "source": [
        "my_var = 17\n",
        "my_var += 5\n",
        "my_var"
      ],
      "metadata": {
        "id": "qi1DGH0IPqW2",
        "outputId": "047119da-bbb6-49ee-d55c-8639e3b0e022",
        "colab": {
          "base_uri": "https://localhost:8080/"
        }
      },
      "id": "qi1DGH0IPqW2",
      "execution_count": 55,
      "outputs": [
        {
          "output_type": "execute_result",
          "data": {
            "text/plain": [
              "22"
            ]
          },
          "metadata": {},
          "execution_count": 55
        }
      ]
    },
    {
      "cell_type": "markdown",
      "id": "52ffc918",
      "metadata": {
        "id": "52ffc918"
      },
      "source": [
        "Python supports many operators this way. Here are some:\n",
        "```python\n",
        "a -= a\n",
        "a \\= a\n",
        "a \\\\= a\n",
        "a %= a\n",
        "a *= a\n",
        "a **= a\n",
        "```"
      ]
    },
    {
      "cell_type": "markdown",
      "id": "aa92ce5d",
      "metadata": {
        "id": "aa92ce5d"
      },
      "source": [
        "## Expressions\n",
        "\n",
        "Variables, literal values, and operators are the building blocks of expressions.\n",
        "\n",
        "For example, the following combines three operators and four variables:"
      ]
    },
    {
      "cell_type": "code",
      "execution_count": 57,
      "id": "5058a10b",
      "metadata": {
        "colab": {
          "base_uri": "https://localhost:8080/"
        },
        "id": "5058a10b",
        "outputId": "d99c2d40-0b7d-4f3c-cbce-a5adc333f893"
      },
      "outputs": [
        {
          "output_type": "execute_result",
          "data": {
            "text/plain": [
              "4.0"
            ]
          },
          "metadata": {},
          "execution_count": 57
        }
      ],
      "source": [
        "1 + 2 * 3 / 2"
      ]
    },
    {
      "cell_type": "markdown",
      "id": "bb74c18b",
      "metadata": {
        "id": "bb74c18b"
      },
      "source": [
        "Python employs **operator precedence** when evaluating expressions:\n",
        "\n",
        "```\n",
        "P – Parentheses\n",
        "E – Exponentiation\n",
        "M – Multiplication\n",
        "D – Division\n",
        "A – Addition\n",
        "S – Subtraction\n",
        "```"
      ]
    },
    {
      "cell_type": "code",
      "execution_count": 56,
      "id": "febc7986",
      "metadata": {
        "colab": {
          "base_uri": "https://localhost:8080/"
        },
        "id": "febc7986",
        "outputId": "9b3c669a-26ca-425f-d7bd-f5f65fc9da45"
      },
      "outputs": [
        {
          "output_type": "execute_result",
          "data": {
            "text/plain": [
              "4.5"
            ]
          },
          "metadata": {},
          "execution_count": 56
        }
      ],
      "source": [
        "(1 + 2) * (3 / 2)"
      ]
    },
    {
      "cell_type": "markdown",
      "id": "fa23e2ea",
      "metadata": {
        "id": "fa23e2ea"
      },
      "source": [
        "Variables and literal values can be combined:"
      ]
    },
    {
      "cell_type": "code",
      "execution_count": 58,
      "id": "775ccb3e",
      "metadata": {
        "id": "775ccb3e"
      },
      "outputs": [],
      "source": [
        "y = 5\n",
        "m = 2.5\n",
        "b = 10"
      ]
    },
    {
      "cell_type": "code",
      "execution_count": 59,
      "id": "f249f060",
      "metadata": {
        "colab": {
          "base_uri": "https://localhost:8080/"
        },
        "id": "f249f060",
        "outputId": "aa998963-e392-45f7-d4d6-e682d843b112"
      },
      "outputs": [
        {
          "output_type": "execute_result",
          "data": {
            "text/plain": [
              "35.0"
            ]
          },
          "metadata": {},
          "execution_count": 59
        }
      ],
      "source": [
        "y = m * 10 + b\n",
        "y"
      ]
    },
    {
      "cell_type": "code",
      "execution_count": 60,
      "id": "cd446cc6",
      "metadata": {
        "colab": {
          "base_uri": "https://localhost:8080/"
        },
        "id": "cd446cc6",
        "outputId": "54376cbc-4b18-4c7d-cdfb-0413cf5de51d"
      },
      "outputs": [
        {
          "output_type": "execute_result",
          "data": {
            "text/plain": [
              "22.5"
            ]
          },
          "metadata": {},
          "execution_count": 60
        }
      ],
      "source": [
        "y = m * 5 + b\n",
        "y"
      ]
    },
    {
      "cell_type": "markdown",
      "id": "fe3afbe8",
      "metadata": {
        "id": "fe3afbe8"
      },
      "source": [
        "Expresssions can be very complex.\n",
        "\n",
        "Expressions evaluate to a value, just as single variables do.\n",
        "\n",
        "Therefore, they can be put anywhere a value is accepted."
      ]
    },
    {
      "cell_type": "code",
      "execution_count": 61,
      "id": "5ef7fe16",
      "metadata": {
        "colab": {
          "base_uri": "https://localhost:8080/"
        },
        "id": "5ef7fe16",
        "outputId": "fb986626-b242-47b4-85a0-53addbc982fd"
      },
      "outputs": [
        {
          "output_type": "execute_result",
          "data": {
            "text/plain": [
              "1244706300354"
            ]
          },
          "metadata": {},
          "execution_count": 61
        }
      ],
      "source": [
        "int((y + 10) ** 8)"
      ]
    },
    {
      "cell_type": "code",
      "execution_count": 61,
      "id": "7e1279ab",
      "metadata": {
        "id": "7e1279ab"
      },
      "outputs": [],
      "source": []
    }
  ],
  "metadata": {
    "kernelspec": {
      "display_name": "base",
      "language": "python",
      "name": "python3"
    },
    "language_info": {
      "codemirror_mode": {
        "name": "ipython",
        "version": 3
      },
      "file_extension": ".py",
      "mimetype": "text/x-python",
      "name": "python",
      "nbconvert_exporter": "python",
      "pygments_lexer": "ipython3",
      "version": "3.9.12"
    },
    "vscode": {
      "interpreter": {
        "hash": "256476f871f41dd9f410a4535ba940f788da543573a25285757e797fedf9c871"
      }
    },
    "colab": {
      "provenance": [],
      "include_colab_link": true
    }
  },
  "nbformat": 4,
  "nbformat_minor": 5
}